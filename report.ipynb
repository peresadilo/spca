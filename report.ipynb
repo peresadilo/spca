{
 "cells": [
  {
   "cell_type": "markdown",
   "metadata": {},
   "source": [
    "This file will be used for interacting with the SPCA class; the idea is to formalize all the computations and methods that we need in the SPCA class, and use this Juypiter Notebook for interacting with it. Think importing and transforming data, plotting, running the algorithms, etc."
   ]
  },
  {
   "cell_type": "code",
   "execution_count": 20,
   "metadata": {},
   "outputs": [],
   "source": [
    "# Import SPCA class and other relevant packages\n",
    "from spca import Spca\n",
    "import pandas as pd"
   ]
  },
  {
   "cell_type": "code",
   "execution_count": 21,
   "metadata": {},
   "outputs": [],
   "source": [
    "# Import both the pitprops and gene datasets; for the pitprops dataset, use the first column as the indices.\n",
    "pitprops = pd.read_csv(\"data/pitprops.csv\", index_col=0)\n",
    "genedata = pd.read_csv(\"data/GCM_Total.csv\")"
   ]
  },
  {
   "cell_type": "markdown",
   "metadata": {},
   "source": [
    "To-do w.r.t. application of the SPCA algorithm\n",
    "- Make some descriptive plots/tables for both datasets; this might be a bit less trivial for the pitprops dataset since it is just a correlation matrix, not a real dataset. We could also try to find the original pitprops dataset, this would make writing the SPCA class a bit easier as well since we now need to do different computations for the two datasets.\n",
    "- Run the SPCA class on both datasets to obtain the results from Zou, Hastie and Tibshirani (2006)\n",
    "- For comparison, do the same using a built-in package; SPCA should be available in scikit-learn (See https://scikit-learn.org/stable/modules/generated/sklearn.decomposition.SparsePCA.html)\n",
    "    - Compare results between hand-written and built-in\n",
    "    - Compare runtime between hand-written and built-in (Should be trivial, Jupyter should provide you with the runtime of a block of code)\n",
    "- .."
   ]
  }
 ],
 "metadata": {
  "interpreter": {
   "hash": "767d51c1340bd893661ea55ea3124f6de3c7a262a8b4abca0554b478b1e2ff90"
  },
  "kernelspec": {
   "display_name": "Python 2.7.18 64-bit",
   "language": "python",
   "name": "python3"
  },
  "language_info": {
   "codemirror_mode": {
    "name": "ipython",
    "version": 3
   },
   "file_extension": ".py",
   "mimetype": "text/x-python",
   "name": "python",
   "nbconvert_exporter": "python",
   "pygments_lexer": "ipython3",
   "version": "3.9.5"
  },
  "orig_nbformat": 4
 },
 "nbformat": 4,
 "nbformat_minor": 2
}
