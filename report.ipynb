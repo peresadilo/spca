{
 "cells": [
  {
   "cell_type": "markdown",
   "metadata": {},
   "source": [
    "\n",
    "We start off with importing the necessary packages (Pandas and NumPy), and our self-written SPCA script which contains all the code for performing the SPCA estimation."
   ]
  },
  {
   "cell_type": "code",
   "execution_count": 1,
   "metadata": {},
   "outputs": [],
   "source": [
    "import pandas as pd\n",
    "import numpy as np\n",
    "import spca\n",
    "import utils"
   ]
  },
  {
   "cell_type": "markdown",
   "metadata": {},
   "source": [
    "We will start by looking at the pitprops dataset, thus using pandas we import the dataset."
   ]
  },
  {
   "cell_type": "code",
   "execution_count": 2,
   "metadata": {},
   "outputs": [],
   "source": [
    "# Import both the pitprops and gene datasets; for the pitprops dataset, use the first column as the indices.\n",
    "pitprops = pd.read_csv(\"data/pitprops.csv\", index_col=0)"
   ]
  },
  {
   "cell_type": "markdown",
   "metadata": {},
   "source": [
    "We set the <img style=\"transform: translateY(0.1em); background: white;\" src=\"https://render.githubusercontent.com/render/math?math=l_2\">-norm equal to the <img style=\"transform: translateY(0.1em); background: white;\" src=\"https://render.githubusercontent.com/render/math?math=%5Clambda\">'s which are provided by Zou, Hastie, and Tibshirani (2006). We then run our self-written function sparcepca() to do the actual SPCA analysis. We first look at our self-written function which uses the elasticnet function from the scikit-learn package."
   ]
  },
  {
   "cell_type": "code",
   "execution_count": 3,
   "metadata": {},
   "outputs": [
    {
     "name": "stdout",
     "output_type": "stream",
     "text": [
      "[[ 0.30704688  0.          0.15428964  0.          0.          0.        ]\n",
      " [ 0.3073818   0.          0.15433007  0.          0.          0.        ]\n",
      " [ 0.04061214  0.23555318  0.10894197 -0.         -0.         -0.        ]\n",
      " [ 0.1095264   0.27027236  0.         -0.          0.         -0.        ]\n",
      " [ 0.01209413  0.         -0.26028444 -0.          0.         -0.        ]\n",
      " [ 0.21381332  0.07183506 -0.17538487 -0.         -0.          0.        ]\n",
      " [ 0.33713612 -0.         -0.13544967  0.         -0.          0.        ]\n",
      " [ 0.22568717 -0.08640404  0.         -0.         -0.         -0.        ]\n",
      " [ 0.2724129  -0.          0.0573439  -0.          0.         -0.        ]\n",
      " [ 0.31089265 -0.07154163 -0.          0.         -0.         -0.        ]\n",
      " [-0.          0.          0.06392704 -0.04524396  0.          0.        ]\n",
      " [-0.06752407  0.11868109  0.03748981  0.          0.          0.        ]\n",
      " [-0.06450399  0.          0.24498359  0.          0.          0.        ]]\n",
      "105.57682489556007\n",
      "[12  6 10  1  0  0]\n"
     ]
    }
   ],
   "source": [
    "lambda2 = np.array([0.06, 0.16, 0.1, 0.5, 0.5, 0.5])\n",
    "A, B, vh = spca.sparcepca(X=pitprops, lambda2=lambda2, lambda1=0.1, k=6, max_iteration=int(1e3), threshold=1e-4, type=\"cov\")\n",
    "print(B)\n",
    "print(utils.variance(pitprops, vh))\n",
    "print(utils.nonzeroloadings(B))"
   ]
  },
  {
   "cell_type": "markdown",
   "metadata": {},
   "source": [
    "Second, we look at our self written sparcepca() function using our self-written elasticnet minimizer."
   ]
  },
  {
   "cell_type": "code",
   "execution_count": 4,
   "metadata": {},
   "outputs": [
    {
     "name": "stdout",
     "output_type": "stream",
     "text": [
      "[[ 0.0938709   0.06740546  0.07215946  0.04119696  0.04117346 -0.06302918]\n",
      " [ 0.09427742  0.05758803  0.08181869  0.04639202  0.05619993 -0.08569523]\n",
      " [ 0.02892193  0.16727959 -0.04925363 -0.03542904 -0.17427823  0.14515321]\n",
      " [ 0.04027167  0.14097817 -0.12268546 -0.02474037 -0.17725923  0.02841906]\n",
      " [ 0.01329254 -0.05262363 -0.16752054 -0.02218244 -0.08774269 -0.32910768]\n",
      " [ 0.0661212  -0.00439229 -0.16544753  0.0286499   0.15736265 -0.02751584]\n",
      " [ 0.09295127 -0.05867657 -0.08810799  0.02934968  0.10716047 -0.00139963]\n",
      " [ 0.06824523 -0.0585265   0.0846097  -0.12896593 -0.09234369  0.02899948]\n",
      " [ 0.08290711  0.00529828  0.07228348 -0.04368456  0.05287128 -0.01800392]\n",
      " [ 0.08808567 -0.0768761   0.0413442   0.09260763 -0.0779195   0.09109338]\n",
      " [-0.00258     0.06352333  0.02452547 -0.36297414  0.1708994  -0.09223159]\n",
      " [-0.02675588  0.10618118 -0.03202532  0.13585533  0.29913779  0.08932269]\n",
      " [-0.02615788  0.09546275  0.11352329  0.13701897 -0.03981148 -0.32950343]]\n"
     ]
    }
   ],
   "source": [
    "A, B, vh = spca.sparcepca(X=pitprops, lambda2=lambda2, lambda1=0.1, k=6, max_iteration=int(1e3), threshold=1e-4, type=\"cov\", optimizer=\"self\")\n",
    "print(B)"
   ]
  },
  {
   "cell_type": "markdown",
   "metadata": {},
   "source": [
    "To-do w.r.t. pitprops\n",
    "- Convert sparcepca() output into an easy-to-copy table\n",
    "- Compare self-built function to sota\n",
    "\n",
    "Then w.r.t. the gene dataset;\n",
    "- Adapt spca and elasticnet functions to gene dataset\n",
    "- Output/plot outcomes from gene dataset like in Zou, Hastie, and Tibshirani (2006)\n",
    "- Again, compare self-built vs. sota"
   ]
  },
  {
   "cell_type": "markdown",
   "metadata": {},
   "source": [
    "Second, we will take a look at the gene dataset. We start here with some data cleanup; remove present/absent calls which are not relevant for our research, take subsample of 144 and set row names to \"Accession\" column (Note the description column is not unique, while the accession column is)."
   ]
  },
  {
   "cell_type": "code",
   "execution_count": 5,
   "metadata": {},
   "outputs": [],
   "source": [
    "genedata = pd.read_csv(\"data/GCM_Total.csv\")\n",
    "genedata = genedata[genedata.columns.drop(list(genedata.filter(regex='Unnamed')))]\n",
    "genedata.index = genedata.iloc[:, 1]\n",
    "genedata = genedata.iloc[:, 2:146]"
   ]
  },
  {
   "cell_type": "code",
   "execution_count": 6,
   "metadata": {},
   "outputs": [],
   "source": [
    "lambda2 = np.absolute(np.random.normal(0, 0.1, 16000))"
   ]
  },
  {
   "cell_type": "code",
   "execution_count": 7,
   "metadata": {},
   "outputs": [
    {
     "name": "stdout",
     "output_type": "stream",
     "text": [
      "Pre-estimation terminated succesfully\n",
      "[[ 1.69661245e-01]\n",
      " [ 5.05697736e-01]\n",
      " [ 2.28535736e-02]\n",
      " ...\n",
      " [-9.49590134e-04]\n",
      " [-1.30258138e-04]\n",
      " [-2.70963562e-05]]\n"
     ]
    }
   ],
   "source": [
    "A, B, vh = spca.sparcepca(X=genedata.T, lambda2=lambda2, lambda1=0.9, k=1, max_iteration=int(1e4), threshold=1e-6, type=\"data\")\n",
    "print(B)"
   ]
  }
 ],
 "metadata": {
  "interpreter": {
   "hash": "767d51c1340bd893661ea55ea3124f6de3c7a262a8b4abca0554b478b1e2ff90"
  },
  "kernelspec": {
   "display_name": "Python 2.7.18 64-bit",
   "language": "python",
   "name": "python3"
  },
  "language_info": {
   "codemirror_mode": {
    "name": "ipython",
    "version": 3
   },
   "file_extension": ".py",
   "mimetype": "text/x-python",
   "name": "python",
   "nbconvert_exporter": "python",
   "pygments_lexer": "ipython3",
   "version": "3.9.9"
  },
  "orig_nbformat": 4
 },
 "nbformat": 4,
 "nbformat_minor": 2
}
