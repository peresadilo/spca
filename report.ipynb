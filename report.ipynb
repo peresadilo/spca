{
 "cells": [
  {
   "cell_type": "markdown",
   "metadata": {},
   "source": [
    "This file will be used for interacting with the SPCA class; the idea is to formalize all the computations and methods that we need in the SPCA class, and use this Juypiter Notebook for interacting with it. Think importing and transforming data, plotting, running the algorithms, etc."
   ]
  },
  {
   "cell_type": "code",
   "execution_count": 1,
   "metadata": {},
   "outputs": [
    {
     "ename": "ModuleNotFoundError",
     "evalue": "No module named 'numpy'",
     "output_type": "error",
     "traceback": [
      "\u001b[1;31m---------------------------------------------------------------------------\u001b[0m",
      "\u001b[1;31mModuleNotFoundError\u001b[0m                       Traceback (most recent call last)",
      "\u001b[1;32m<ipython-input-1-53c15c6a6392>\u001b[0m in \u001b[0;36m<module>\u001b[1;34m\u001b[0m\n\u001b[0;32m      1\u001b[0m \u001b[1;31m# Import SPCA class and other relevant packages\u001b[0m\u001b[1;33m\u001b[0m\u001b[1;33m\u001b[0m\u001b[1;33m\u001b[0m\u001b[0m\n\u001b[1;32m----> 2\u001b[1;33m \u001b[1;32mfrom\u001b[0m \u001b[0mspca\u001b[0m \u001b[1;32mimport\u001b[0m \u001b[0mSpca\u001b[0m\u001b[1;33m\u001b[0m\u001b[1;33m\u001b[0m\u001b[0m\n\u001b[0m\u001b[0;32m      3\u001b[0m \u001b[1;32mimport\u001b[0m \u001b[0mpandas\u001b[0m \u001b[1;32mas\u001b[0m \u001b[0mpd\u001b[0m\u001b[1;33m\u001b[0m\u001b[1;33m\u001b[0m\u001b[0m\n",
      "\u001b[1;32mc:\\Users\\Nouri\\Documents\\GitHub\\spca\\spca.py\u001b[0m in \u001b[0;36m<module>\u001b[1;34m\u001b[0m\n\u001b[1;32m----> 1\u001b[1;33m \u001b[1;32mimport\u001b[0m \u001b[0mnumpy\u001b[0m \u001b[1;32mas\u001b[0m \u001b[0mnp\u001b[0m\u001b[1;33m\u001b[0m\u001b[1;33m\u001b[0m\u001b[0m\n\u001b[0m\u001b[0;32m      2\u001b[0m \u001b[1;32mimport\u001b[0m \u001b[0mpandas\u001b[0m \u001b[1;32mas\u001b[0m \u001b[0mpd\u001b[0m\u001b[1;33m\u001b[0m\u001b[1;33m\u001b[0m\u001b[0m\n\u001b[0;32m      3\u001b[0m \u001b[1;33m\u001b[0m\u001b[0m\n\u001b[0;32m      4\u001b[0m \u001b[1;31m# This class will be used for all main computations w.r.t. SPCA; Following Zou, Hastie and Tibshirani (2006), we can divide the SPCA algorithm in 5 different steps;\u001b[0m\u001b[1;33m\u001b[0m\u001b[1;33m\u001b[0m\u001b[1;33m\u001b[0m\u001b[0m\n\u001b[0;32m      5\u001b[0m \u001b[1;31m# (1) Define A using V; here, V are the loadings of the first k PCs. Depending on the dataset we can calculate V by using the single value decomposition\u001b[0m\u001b[1;33m\u001b[0m\u001b[1;33m\u001b[0m\u001b[1;33m\u001b[0m\u001b[0m\n",
      "\u001b[1;31mModuleNotFoundError\u001b[0m: No module named 'numpy'"
     ]
    }
   ],
   "source": [
    "# Import SPCA class and other relevant packages\n",
    "from spca import Spca\n",
    "from elasticnet import ElasticNet\n",
    "import pandas as pd\n",
    "import numpy as np\n",
    "import plotnine as pn"
   ]
  },
  {
   "cell_type": "code",
   "execution_count": 21,
   "metadata": {},
   "outputs": [],
   "source": [
    "# Import both the pitprops and gene datasets; for the pitprops dataset, use the first column as the indices.\n",
    "pitprops = pd.read_csv(\"data/pitprops.csv\", index_col=0)\n",
    "genedata = pd.read_csv(\"data/GCM_Total.csv\")"
   ]
  },
  {
   "cell_type": "markdown",
   "metadata": {},
   "source": [
    "To-do w.r.t. application of the SPCA algorithm\n",
    "- Make some descriptive plots/tables for both datasets; this might be a bit less trivial for the pitprops dataset since it is just a correlation matrix, not a real dataset. We could also try to find the original pitprops dataset, this would make writing the SPCA class a bit easier as well since we now need to do different computations for the two datasets.\n",
    "- Run the SPCA class on both datasets to obtain the results from Zou, Hastie and Tibshirani (2006)\n",
    "- For comparison, do the same using a built-in package; SPCA should be available in scikit-learn (See https://scikit-learn.org/stable/modules/generated/sklearn.decomposition.SparsePCA.html)\n",
    "    - Compare results between hand-written and built-in\n",
    "    - Compare runtime between hand-written and built-in (Should be trivial, Jupyter should provide you with the runtime of a block of code)\n",
    "- .."
   ]
  },
  {
   "cell_type": "code",
   "execution_count": null,
   "metadata": {},
   "outputs": [],
   "source": [
    "### Descriptive statistics and plots\n",
    "\n",
    "pitprops.describe\n",
    "genedata.describe\n"
   ]
  },
  {
   "cell_type": "markdown",
   "metadata": {},
   "source": [
    "Comments and analysis of descriptives and plots"
   ]
  },
  {
   "cell_type": "code",
   "execution_count": null,
   "metadata": {},
   "outputs": [],
   "source": [
    "### Run the main algorithm\n",
    "\n",
    "# For both datasets separately:\n",
    "\n",
    "# Calculate SVD for initial loadings\n",
    "Ploadings = np.linalg.svd(pitprops)\n",
    "Gloadings = np.linalg.svd(genedata)\n",
    "\n",
    "# Run SPCA algorithm\n",
    "Presult = Spca.SPCAalgo(Ploadings)\n",
    "Gresult = Spca.SPCAalgo(Gloadings)\n",
    "\n",
    "# Report results\n",
    "\n",
    "print(Presult)\n",
    "print(Gresult)"
   ]
  },
  {
   "cell_type": "markdown",
   "metadata": {},
   "source": [
    "Comments and analysis of algorithm and runtime"
   ]
  },
  {
   "cell_type": "code",
   "execution_count": null,
   "metadata": {},
   "outputs": [],
   "source": [
    "# After those 5 steps, we also want to compute some measures like number of nonzero loadings, variance and cumulative variance. We also need to think how we want\n",
    "# to visualize the SPCA outcomes for the gene dataset, since we can't simply show ~16,000 loadings\n",
    "\n",
    "# Calculate performance measures\n",
    "# Maybe elbow plots?"
   ]
  },
  {
   "cell_type": "markdown",
   "metadata": {},
   "source": [
    "Comments and analysis of results and performance measures"
   ]
  },
  {
   "cell_type": "markdown",
   "metadata": {},
   "source": [
    "Possible extensions:\n",
    "\n",
    "1. Compare runtime between packages & our implementation\n",
    "2. Compare results between paper & our implementation\n",
    "3. Vary k, lambda, stopping criterion\n",
    "4. Calculate SVD without packages\n"
   ]
  }
 ],
 "metadata": {
  "interpreter": {
   "hash": "767d51c1340bd893661ea55ea3124f6de3c7a262a8b4abca0554b478b1e2ff90"
  },
  "kernelspec": {
   "display_name": "Python 2.7.18 64-bit",
   "language": "python",
   "name": "python3"
  },
  "language_info": {
   "codemirror_mode": {
    "name": "ipython",
    "version": 3
   },
   "file_extension": ".py",
   "mimetype": "text/x-python",
   "name": "python",
   "nbconvert_exporter": "python",
   "pygments_lexer": "ipython3",
   "version": "3.9.4"
  },
  "orig_nbformat": 4
 },
 "nbformat": 4,
 "nbformat_minor": 2
}
