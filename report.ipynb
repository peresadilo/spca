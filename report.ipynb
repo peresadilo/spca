{
 "cells": [
  {
   "cell_type": "markdown",
   "metadata": {},
   "source": [
    "\n",
    "We start off with importing the necessary packages (Pandas and NumPy), and our self-written SPCA script which contains all the code for performing the SPCA estimation."
   ]
  },
  {
   "cell_type": "code",
   "execution_count": 58,
   "metadata": {},
   "outputs": [],
   "source": [
    "import pandas as pd\n",
    "import numpy as np\n",
    "import spca\n",
    "import utils\n",
    "import matplotlib.pyplot as plt\n",
    "from sklearn.decomposition import PCA"
   ]
  },
  {
   "cell_type": "markdown",
   "metadata": {},
   "source": [
    "We will start by looking at the pitprops dataset, thus using pandas we import the dataset."
   ]
  },
  {
   "cell_type": "code",
   "execution_count": 59,
   "metadata": {},
   "outputs": [],
   "source": [
    "# Import both the pitprops and gene datasets; for the pitprops dataset, use the first column as the indices.\n",
    "pitprops = pd.read_csv(\"data/pitprops.csv\", index_col=0)"
   ]
  },
  {
   "cell_type": "code",
   "execution_count": 60,
   "metadata": {},
   "outputs": [
    {
     "data": {
      "image/png": "[encoded data removed]",
      "text/plain": [
       "<Figure size 432x288 with 1 Axes>"
      ]
     },
     "metadata": {
      "needs_background": "light"
     },
     "output_type": "display_data"
    }
   ],
   "source": [
    "pca = PCA(n_components=6)\n",
    "pca_fit = pca.fit(pitprops)\n",
    "PC_values = np.arange(pca.n_components_) + 1\n",
    "plt.plot(PC_values, pca.explained_variance_ratio_, 'o-', linewidth=2, color='blue')\n",
    "plt.title('Scree Plot Pitprops data')\n",
    "plt.xlabel('Principal Component')\n",
    "plt.ylabel('Variance Explained')\n",
    "plt.show()"
   ]
  },
  {
   "cell_type": "markdown",
   "metadata": {},
   "source": [
    "We set the <img style=\"transform: translateY(0.1em); background: white;\" src=\"https://render.githubusercontent.com/render/math?math=l_2\">-norm equal to the <img style=\"transform: translateY(0.1em); background: white;\" src=\"https://render.githubusercontent.com/render/math?math=%5Clambda\">'s which are provided by Zou, Hastie, and Tibshirani (2006). We then run our self-written function sparcepca() to do the actual SPCA analysis. We first look at our self-written function which uses the elasticnet function from the scikit-learn package."
   ]
  },
  {
   "cell_type": "code",
   "execution_count": 9,
   "metadata": {},
   "outputs": [
    {
     "name": "stdout",
     "output_type": "stream",
     "text": [
      "[[ 0.30704688  0.          0.15428964  0.          0.          0.        ]\n",
      " [ 0.3073818   0.          0.15433007  0.          0.          0.        ]\n",
      " [ 0.04061214  0.23555318  0.10894197 -0.         -0.         -0.        ]\n",
      " [ 0.1095264   0.27027236  0.         -0.          0.         -0.        ]\n",
      " [ 0.01209413  0.         -0.26028444 -0.          0.         -0.        ]\n",
      " [ 0.21381332  0.07183506 -0.17538487 -0.         -0.          0.        ]\n",
      " [ 0.33713612 -0.         -0.13544967  0.         -0.          0.        ]\n",
      " [ 0.22568717 -0.08640404  0.         -0.         -0.         -0.        ]\n",
      " [ 0.2724129  -0.          0.0573439  -0.          0.         -0.        ]\n",
      " [ 0.31089265 -0.07154163 -0.          0.         -0.         -0.        ]\n",
      " [-0.          0.          0.06392704 -0.04524396  0.          0.        ]\n",
      " [-0.06752407  0.11868109  0.03748981  0.          0.          0.        ]\n",
      " [-0.06450399  0.          0.24498359  0.          0.          0.        ]]\n",
      "105.57682489556007\n",
      "[12  6 10  1  0  0]\n"
     ]
    }
   ],
   "source": [
    "lambda2 = np.array([0.06, 0.16, 0.1, 0.5, 0.5, 0.5])\n",
    "A, B, vh = spca.sparcepca(X=pitprops, lambda2=lambda2, lambda1=0.1, k=6, max_iteration=int(1e3), threshold=1e-4, type=\"cov\")\n",
    "print(B)\n",
    "\n",
    "print(utils.variance(pitprops, vh))\n",
    "print(utils.nonzeroloadings(B))\n",
    "\n",
    "# Print results"
   ]
  },
  {
   "cell_type": "code",
   "execution_count": 82,
   "metadata": {},
   "outputs": [
    {
     "data": {
      "text/plain": [
       "array([[0.59244789],\n",
       "       [0.16032335],\n",
       "       [0.24307236],\n",
       "       [0.0020126 ],\n",
       "       [0.        ],\n",
       "       [0.        ]])"
      ]
     },
     "execution_count": 82,
     "metadata": {},
     "output_type": "execute_result"
    }
   ],
   "source": [
    "Z = B\n",
    "\n",
    "np.diag(np.linalg.qr(Z)[1]**2).reshape(6, 1)\n",
    "\n",
    "#print(np.trace(Z.T @ Z), np.sum((np.linalg.qr(Z)[1])**2))\n"
   ]
  },
  {
   "cell_type": "code",
   "execution_count": 90,
   "metadata": {},
   "outputs": [
    {
     "data": {
      "text/plain": [
       "array([[ 5.79252224e-02, -2.94395537e-03, -3.73902820e-03,\n",
       "         1.12082927e-05,  0.00000000e+00,  0.00000000e+00],\n",
       "       [-2.94395537e-03,  4.09708838e-03, -2.13656615e-04,\n",
       "        -4.98381057e-06,  0.00000000e+00,  0.00000000e+00],\n",
       "       [-3.73902820e-03, -2.13656615e-04,  9.67336601e-03,\n",
       "        -1.35383357e-04,  0.00000000e+00,  0.00000000e+00],\n",
       "       [ 1.12082927e-05, -4.98381057e-06, -1.35383357e-04,\n",
       "         2.48733091e-06,  0.00000000e+00,  0.00000000e+00],\n",
       "       [ 0.00000000e+00,  0.00000000e+00,  0.00000000e+00,\n",
       "         0.00000000e+00,  0.00000000e+00,  0.00000000e+00],\n",
       "       [ 0.00000000e+00,  0.00000000e+00,  0.00000000e+00,\n",
       "         0.00000000e+00,  0.00000000e+00,  0.00000000e+00]])"
      ]
     },
     "execution_count": 90,
     "metadata": {},
     "output_type": "execute_result"
    }
   ],
   "source": [
    "sum(np.cov(Z.T @ Z))"
   ]
  },
  {
   "cell_type": "markdown",
   "metadata": {},
   "source": [
    "Second, we look at our self written sparcepca() function using our self-written elasticnet minimizer.\n",
    "\n",
    "# Note: initial run suggests 0.1s for package implementation, 0.8s for our own implementation.\n",
    "The difference in computational effiency could be because of numerical optimizations, more a more efficient optimization algorithm choice, or ?"
   ]
  },
  {
   "cell_type": "code",
   "execution_count": 62,
   "metadata": {},
   "outputs": [
    {
     "name": "stdout",
     "output_type": "stream",
     "text": [
      "[[ 0.09386998  0.06740624  0.07216062  0.04119735  0.04117323 -0.06302716]\n",
      " [ 0.09427643  0.05758885  0.0818184   0.04639206  0.05619881 -0.08569588]\n",
      " [ 0.02892203  0.16727943 -0.04925451 -0.03542775 -0.17427592  0.14515214]\n",
      " [ 0.04027168  0.14097718 -0.12268551 -0.02473799 -0.17725915  0.02841968]\n",
      " [ 0.01329387 -0.05262257 -0.1675201  -0.02218216 -0.08774315 -0.32910868]\n",
      " [ 0.06612278 -0.00439321 -0.16544676  0.02864955  0.15736254 -0.02751441]\n",
      " [ 0.0929505  -0.05867726 -0.08810975  0.0293493   0.10716013 -0.0013976 ]\n",
      " [ 0.06824538 -0.05852869  0.08460921 -0.12896598 -0.09234373  0.02899934]\n",
      " [ 0.08290592  0.00529769  0.07228257 -0.04368508  0.05287135 -0.01800272]\n",
      " [ 0.08808786 -0.07687641  0.04134476  0.09260813 -0.07792041  0.09109424]\n",
      " [-0.0025778   0.06352432  0.02452629 -0.36297387  0.17090054 -0.09223225]\n",
      " [-0.02675633  0.10618055 -0.03202471  0.13585596  0.29913835  0.08932349]\n",
      " [-0.02615855  0.09546205  0.11352347  0.13701936 -0.03981298 -0.32950263]]\n"
     ]
    }
   ],
   "source": [
    "A, B, vh = spca.sparcepca(X=pitprops, lambda2=lambda2, lambda1=0.1, k=6, max_iteration=int(1e3), threshold=1e-4, type=\"cov\", optimizer=\"self\")\n",
    "print(B)\n"
   ]
  },
  {
   "cell_type": "code",
   "execution_count": 63,
   "metadata": {},
   "outputs": [
    {
     "name": "stdout",
     "output_type": "stream",
     "text": [
      "\\begin{tabular}{lrrrrrr}\n",
      "\\toprule\n",
      "{} &         0 &         1 &         2 &         3 &         4 &         5 \\\\\n",
      "\\midrule\n",
      "0  &  0.093870 &  0.067406 &  0.072161 &  0.041197 &  0.041173 & -0.063027 \\\\\n",
      "1  &  0.094276 &  0.057589 &  0.081818 &  0.046392 &  0.056199 & -0.085696 \\\\\n",
      "2  &  0.028922 &  0.167279 & -0.049255 & -0.035428 & -0.174276 &  0.145152 \\\\\n",
      "3  &  0.040272 &  0.140977 & -0.122686 & -0.024738 & -0.177259 &  0.028420 \\\\\n",
      "4  &  0.013294 & -0.052623 & -0.167520 & -0.022182 & -0.087743 & -0.329109 \\\\\n",
      "5  &  0.066123 & -0.004393 & -0.165447 &  0.028650 &  0.157363 & -0.027514 \\\\\n",
      "6  &  0.092950 & -0.058677 & -0.088110 &  0.029349 &  0.107160 & -0.001398 \\\\\n",
      "7  &  0.068245 & -0.058529 &  0.084609 & -0.128966 & -0.092344 &  0.028999 \\\\\n",
      "8  &  0.082906 &  0.005298 &  0.072283 & -0.043685 &  0.052871 & -0.018003 \\\\\n",
      "9  &  0.088088 & -0.076876 &  0.041345 &  0.092608 & -0.077920 &  0.091094 \\\\\n",
      "10 & -0.002578 &  0.063524 &  0.024526 & -0.362974 &  0.170901 & -0.092232 \\\\\n",
      "11 & -0.026756 &  0.106181 & -0.032025 &  0.135856 &  0.299138 &  0.089323 \\\\\n",
      "12 & -0.026159 &  0.095462 &  0.113523 &  0.137019 & -0.039813 & -0.329503 \\\\\n",
      "\\bottomrule\n",
      "\\end{tabular}\n",
      "\n"
     ]
    }
   ],
   "source": [
    "df = pd.DataFrame(B)\n",
    "latextable = pd.DataFrame.to_latex(df)\n",
    "print(latextable)"
   ]
  },
  {
   "cell_type": "markdown",
   "metadata": {},
   "source": [
    "To-do w.r.t. pitprops\n",
    "- Convert sparcepca() output into an easy-to-copy table - Done\n",
    "- Compare self-built function to sota - Done\n",
    "\n",
    "Then w.r.t. the gene dataset;\n",
    "- Adapt spca and elasticnet functions to gene dataset\n",
    "- Output/plot outcomes from gene dataset like in Zou, Hastie, and Tibshirani (2006)\n",
    "- Again, compare self-built vs. sota"
   ]
  },
  {
   "cell_type": "markdown",
   "metadata": {},
   "source": [
    "Second, we will take a look at the gene dataset. We start here with some data cleanup; remove present/absent calls which are not relevant for our research, take subsample of 144 and set row names to \"Accession\" column (Note the description column is not unique, while the accession column is)."
   ]
  },
  {
   "cell_type": "code",
   "execution_count": 64,
   "metadata": {},
   "outputs": [],
   "source": [
    "genedata = pd.read_csv(\"data/GCM_Total.csv\")\n",
    "genedata = genedata[genedata.columns.drop(list(genedata.filter(regex='Unnamed')))]\n",
    "genedata.index = genedata.iloc[:, 1]\n",
    "genedata = genedata.iloc[:, 2:146]"
   ]
  },
  {
   "cell_type": "markdown",
   "metadata": {},
   "source": [
    "Genedata initial visualisation"
   ]
  },
  {
   "cell_type": "code",
   "execution_count": 68,
   "metadata": {},
   "outputs": [
    {
     "name": "stdout",
     "output_type": "stream",
     "text": [
      "(16063, 144)\n"
     ]
    }
   ],
   "source": [
    "print(genedata.shape)\n",
    "# Get principal components\n",
    "# Make scree plots"
   ]
  },
  {
   "cell_type": "code",
   "execution_count": 65,
   "metadata": {},
   "outputs": [],
   "source": [
    "lambda2 = np.absolute(np.random.normal(0, 0.1, 16000))"
   ]
  },
  {
   "cell_type": "code",
   "execution_count": 66,
   "metadata": {},
   "outputs": [
    {
     "name": "stdout",
     "output_type": "stream",
     "text": [
      "Pre-estimation terminated succesfully\n"
     ]
    },
    {
     "ename": "MemoryError",
     "evalue": "Unable to allocate 120. GiB for an array with shape (1000000, 16063) and data type float64",
     "output_type": "error",
     "traceback": [
      "\u001b[1;31m---------------------------------------------------------------------------\u001b[0m",
      "\u001b[1;31mMemoryError\u001b[0m                               Traceback (most recent call last)",
      "\u001b[1;32m<ipython-input-66-5cd7ebc6d920>\u001b[0m in \u001b[0;36m<module>\u001b[1;34m\u001b[0m\n\u001b[1;32m----> 1\u001b[1;33m \u001b[0mA\u001b[0m\u001b[1;33m,\u001b[0m \u001b[0mB\u001b[0m\u001b[1;33m,\u001b[0m \u001b[0mvh\u001b[0m \u001b[1;33m=\u001b[0m \u001b[0mspca\u001b[0m\u001b[1;33m.\u001b[0m\u001b[0msparcepca\u001b[0m\u001b[1;33m(\u001b[0m\u001b[0mX\u001b[0m\u001b[1;33m=\u001b[0m\u001b[0mgenedata\u001b[0m\u001b[1;33m.\u001b[0m\u001b[0mT\u001b[0m\u001b[1;33m,\u001b[0m \u001b[0mlambda2\u001b[0m\u001b[1;33m=\u001b[0m\u001b[0mlambda2\u001b[0m\u001b[1;33m,\u001b[0m \u001b[0mlambda1\u001b[0m\u001b[1;33m=\u001b[0m\u001b[1;36m0.9\u001b[0m\u001b[1;33m,\u001b[0m \u001b[0mk\u001b[0m\u001b[1;33m=\u001b[0m\u001b[1;36m1\u001b[0m\u001b[1;33m,\u001b[0m \u001b[0mmax_iteration\u001b[0m\u001b[1;33m=\u001b[0m\u001b[0mint\u001b[0m\u001b[1;33m(\u001b[0m\u001b[1;36m1e4\u001b[0m\u001b[1;33m)\u001b[0m\u001b[1;33m,\u001b[0m \u001b[0mthreshold\u001b[0m\u001b[1;33m=\u001b[0m\u001b[1;36m1e-6\u001b[0m\u001b[1;33m,\u001b[0m \u001b[0mtype\u001b[0m\u001b[1;33m=\u001b[0m\u001b[1;34m\"data\"\u001b[0m\u001b[1;33m)\u001b[0m\u001b[1;33m\u001b[0m\u001b[1;33m\u001b[0m\u001b[0m\n\u001b[0m\u001b[0;32m      2\u001b[0m \u001b[0mprint\u001b[0m\u001b[1;33m(\u001b[0m\u001b[0mB\u001b[0m\u001b[1;33m)\u001b[0m\u001b[1;33m\u001b[0m\u001b[1;33m\u001b[0m\u001b[0m\n",
      "\u001b[1;32mc:\\Users\\Nouri\\Documents\\GitHub\\spca\\spca.py\u001b[0m in \u001b[0;36msparcepca\u001b[1;34m(X, lambda2, lambda1, k, max_iteration, threshold, type, optimizer)\u001b[0m\n\u001b[0;32m     56\u001b[0m     \u001b[0mi\u001b[0m\u001b[1;33m,\u001b[0m \u001b[0mdifference_a\u001b[0m\u001b[1;33m,\u001b[0m \u001b[0mdifference_b\u001b[0m \u001b[1;33m=\u001b[0m \u001b[1;36m0\u001b[0m\u001b[1;33m,\u001b[0m \u001b[1;36m1\u001b[0m\u001b[1;33m,\u001b[0m \u001b[1;36m1\u001b[0m\u001b[1;33m\u001b[0m\u001b[1;33m\u001b[0m\u001b[0m\n\u001b[0;32m     57\u001b[0m     \u001b[0mB_temp\u001b[0m \u001b[1;33m=\u001b[0m \u001b[0mnp\u001b[0m\u001b[1;33m.\u001b[0m\u001b[0mzeros\u001b[0m\u001b[1;33m(\u001b[0m\u001b[1;33m(\u001b[0m\u001b[0mk\u001b[0m\u001b[1;33m,\u001b[0m \u001b[0meigenvalues\u001b[0m\u001b[1;33m.\u001b[0m\u001b[0mshape\u001b[0m\u001b[1;33m[\u001b[0m\u001b[1;36m0\u001b[0m\u001b[1;33m]\u001b[0m\u001b[1;33m)\u001b[0m\u001b[1;33m)\u001b[0m\u001b[1;33m\u001b[0m\u001b[1;33m\u001b[0m\u001b[0m\n\u001b[1;32m---> 58\u001b[1;33m     \u001b[0mB\u001b[0m \u001b[1;33m=\u001b[0m \u001b[0mnp\u001b[0m\u001b[1;33m.\u001b[0m\u001b[0mzeros\u001b[0m\u001b[1;33m(\u001b[0m\u001b[1;33m(\u001b[0m\u001b[1;33m(\u001b[0m\u001b[0mmax_iteration\u001b[0m\u001b[1;33m*\u001b[0m\u001b[1;36m100\u001b[0m\u001b[1;33m)\u001b[0m\u001b[1;33m,\u001b[0m \u001b[0meigenvalues\u001b[0m\u001b[1;33m.\u001b[0m\u001b[0mshape\u001b[0m\u001b[1;33m[\u001b[0m\u001b[1;36m0\u001b[0m\u001b[1;33m]\u001b[0m\u001b[1;33m)\u001b[0m\u001b[1;33m)\u001b[0m\u001b[1;33m\u001b[0m\u001b[1;33m\u001b[0m\u001b[0m\n\u001b[0m\u001b[0;32m     59\u001b[0m \u001b[1;33m\u001b[0m\u001b[0m\n\u001b[0;32m     60\u001b[0m     \u001b[1;32mwhile\u001b[0m \u001b[0mdifference_a\u001b[0m \u001b[1;33m>\u001b[0m \u001b[0mthreshold\u001b[0m \u001b[1;32mand\u001b[0m \u001b[0mdifference_b\u001b[0m \u001b[1;33m>\u001b[0m \u001b[0mthreshold\u001b[0m \u001b[1;32mand\u001b[0m \u001b[0mi\u001b[0m \u001b[1;33m<\u001b[0m \u001b[0mmax_iteration\u001b[0m\u001b[1;33m:\u001b[0m\u001b[1;33m\u001b[0m\u001b[1;33m\u001b[0m\u001b[0m\n",
      "\u001b[1;31mMemoryError\u001b[0m: Unable to allocate 120. GiB for an array with shape (1000000, 16063) and data type float64"
     ]
    }
   ],
   "source": [
    "A, B, vh = spca.sparcepca(X=genedata.T, lambda2=lambda2, lambda1=0.9, k=1, max_iteration=int(1e4), threshold=1e-6, type=\"data\")\n",
    "print(B)"
   ]
  }
 ],
 "metadata": {
  "interpreter": {
   "hash": "767d51c1340bd893661ea55ea3124f6de3c7a262a8b4abca0554b478b1e2ff90"
  },
  "kernelspec": {
   "display_name": "Python 2.7.18 64-bit",
   "language": "python",
   "name": "python3"
  },
  "language_info": {
   "codemirror_mode": {
    "name": "ipython",
    "version": 3
   },
   "file_extension": ".py",
   "mimetype": "text/x-python",
   "name": "python",
   "nbconvert_exporter": "python",
   "pygments_lexer": "ipython3",
   "version": "3.9.4"
  },
  "orig_nbformat": 4
 },
 "nbformat": 4,
 "nbformat_minor": 2
}
