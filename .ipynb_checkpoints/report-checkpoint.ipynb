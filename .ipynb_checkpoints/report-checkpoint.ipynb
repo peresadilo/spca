{
 "cells": [
  {
   "cell_type": "markdown",
   "metadata": {},
   "source": [
    "\n",
    "We start off with importing the necessary packages (Pandas and NumPy), and our self-written SPCA script which contains all the code for performing the SPCA estimation."
   ]
  },
  {
   "cell_type": "code",
   "execution_count": 7,
   "metadata": {},
   "outputs": [],
   "source": [
    "import pandas as pd\n",
    "import numpy as np\n",
    "import spca\n",
    "import utils\n",
    "import matplotlib.pyplot as plt\n",
    "from sklearn.decomposition import PCA\n",
    "from sklearn import preprocessing"
   ]
  },
  {
   "cell_type": "markdown",
   "metadata": {},
   "source": [
    "We will start by looking at the pitprops dataset, thus using pandas we import the dataset."
   ]
  },
  {
   "cell_type": "code",
   "execution_count": 2,
   "metadata": {},
   "outputs": [],
   "source": [
    "# Import both the pitprops and gene datasets; for the pitprops dataset, use the first column as the indices.\n",
    "pitprops = pd.read_csv(\"data/pitprops.csv\", index_col=0)"
   ]
  },
  {
   "cell_type": "code",
   "execution_count": 3,
   "metadata": {},
   "outputs": [
    {
     "data": {
      "image/png": "[encoded data removed]",
      "text/plain": [
       "<Figure size 432x288 with 1 Axes>"
      ]
     },
     "metadata": {
      "needs_background": "light"
     },
     "output_type": "display_data"
    }
   ],
   "source": [
    "pca = PCA(n_components=6)\n",
    "pca_fit = pca.fit(pitprops)\n",
    "PC_values = np.arange(pca.n_components_) + 1\n",
    "plt.plot(PC_values, pca.explained_variance_ratio_, 'o-', linewidth=2, color='blue')\n",
    "plt.title('Scree Plot Pitprops data')\n",
    "plt.xlabel('Principal Component')\n",
    "plt.ylabel('Variance Explained')\n",
    "plt.show()"
   ]
  },
  {
   "cell_type": "markdown",
   "metadata": {},
   "source": [
    "We set the <img style=\"transform: translateY(0.1em); background: white;\" src=\"https://render.githubusercontent.com/render/math?math=l_2\">-norm equal to the <img style=\"transform: translateY(0.1em); background: white;\" src=\"https://render.githubusercontent.com/render/math?math=%5Clambda\">'s which are provided by Zou, Hastie, and Tibshirani (2006). We then run our self-written function sparcepca() to do the actual SPCA analysis. We first look at our self-written function which uses the elasticnet function from the scikit-learn package."
   ]
  },
  {
   "cell_type": "code",
   "execution_count": null,
   "metadata": {},
   "outputs": [],
   "source": [
    "lambda2 = np.array([0.06, 0.16, 0.1, 0.5, 0.5, 0.5])\n",
    "A, B, D, vh = spca.sparcepca(X=pitprops, lambda2=lambda2, lambda1=0.1, k=6, max_iteration=int(1e3), threshold=1e-4, type=\"cov\")\n",
    "print(B)\n",
    "\n",
    "# print(utils.variance(pitprops, vh))\n",
    "print(utils.variance(pitprops, vh))\n",
    "print(utils.nonzeroloadings(B))\n",
    "\n",
    "# Print results"
   ]
  },
  {
   "cell_type": "code",
   "execution_count": null,
   "metadata": {},
   "outputs": [],
   "source": [
    "variance, diagonal = utils.variance(pitprops, vh)"
   ]
  },
  {
   "cell_type": "code",
   "execution_count": null,
   "metadata": {},
   "outputs": [],
   "source": [
    "np.array([diagonal[i]**2 / sum(diagonal**2) for i in range(6)]).sum()"
   ]
  },
  {
   "cell_type": "markdown",
   "metadata": {},
   "source": [
    "## Variance calculation"
   ]
  },
  {
   "cell_type": "code",
   "execution_count": null,
   "metadata": {},
   "outputs": [],
   "source": [
    "Z = B\n",
    "\n",
    "np.diag(np.linalg.qr(Z)[1]**2).reshape(6, 1)\n",
    "\n",
    "#print(np.trace(Z.T @ Z), np.sum((np.linalg.qr(Z)[1])**2))\n"
   ]
  },
  {
   "cell_type": "code",
   "execution_count": null,
   "metadata": {},
   "outputs": [],
   "source": [
    "sum(np.cov(Z.T @ Z))"
   ]
  },
  {
   "cell_type": "markdown",
   "metadata": {},
   "source": [
    "Second, we look at our self written sparcepca() function using our self-written elasticnet minimizer.\n",
    "\n",
    "# Note: initial run suggests 0.1s for package implementation, 0.8s for our own implementation.\n",
    "The difference in computational effiency could be because of numerical optimizations, more a more efficient optimization algorithm choice, or ?"
   ]
  },
  {
   "cell_type": "code",
   "execution_count": null,
   "metadata": {},
   "outputs": [],
   "source": [
    "A, B, vh = spca.sparcepca(X=pitprops, lambda2=lambda2, lambda1=0.1, k=6, max_iteration=int(1e3), threshold=1e-4, type=\"cov\", optimizer=\"self\")\n",
    "print(B)\n"
   ]
  },
  {
   "cell_type": "code",
   "execution_count": null,
   "metadata": {},
   "outputs": [],
   "source": [
    "df = pd.DataFrame(B)\n",
    "latextable = pd.DataFrame.to_latex(df)\n",
    "print(latextable)"
   ]
  },
  {
   "cell_type": "markdown",
   "metadata": {},
   "source": [
    "To-do w.r.t. pitprops\n",
    "- Convert sparcepca() output into an easy-to-copy table - Done\n",
    "- Compare self-built function to sota - Done\n",
    "\n",
    "Then w.r.t. the gene dataset;\n",
    "- Adapt spca and elasticnet functions to gene dataset\n",
    "- Output/plot outcomes from gene dataset like in Zou, Hastie, and Tibshirani (2006)\n",
    "- Again, compare self-built vs. sota"
   ]
  },
  {
   "cell_type": "markdown",
   "metadata": {},
   "source": [
    "Second, we will take a look at the gene dataset. We start here with some data cleanup; remove present/absent calls which are not relevant for our research, take subsample of 144 and set row names to \"Accession\" column (Note the description column is not unique, while the accession column is)."
   ]
  },
  {
   "cell_type": "code",
   "execution_count": 8,
   "metadata": {},
   "outputs": [],
   "source": [
    "genedata = pd.read_csv(\"data/GCM_Total.csv\")\n",
    "genedata = genedata[genedata.columns.drop(list(genedata.filter(regex='Unnamed')))]\n",
    "genedata.index = genedata.iloc[:, 1]\n",
    "genedata = genedata.iloc[:, 2:146]"
   ]
  },
  {
   "cell_type": "markdown",
   "metadata": {},
   "source": [
    "Genedata initial visualisation"
   ]
  },
  {
   "cell_type": "markdown",
   "metadata": {},
   "source": [
    "## Complete dataset"
   ]
  },
  {
   "cell_type": "code",
   "execution_count": 10,
   "metadata": {},
   "outputs": [
    {
     "name": "stdout",
     "output_type": "stream",
     "text": [
      "(16063, 144)\n",
      "<class 'pandas.core.frame.DataFrame'>\n"
     ]
    }
   ],
   "source": [
    "print(genedata.shape)\n",
    "print(type(genedata))\n",
    "# Get principal components\n",
    "# Make scree plots"
   ]
  },
  {
   "cell_type": "code",
   "execution_count": null,
   "metadata": {},
   "outputs": [],
   "source": [
    "lambda2 = np.absolute(np.random.normal(0, 0.1, 16000))"
   ]
  },
  {
   "cell_type": "code",
   "execution_count": null,
   "metadata": {},
   "outputs": [],
   "source": [
    "np.array(genedata).shape"
   ]
  },
  {
   "cell_type": "code",
   "execution_count": null,
   "metadata": {},
   "outputs": [],
   "source": [
    "A, B, D, vh = spca.sparcepca(X=genedata.T, lambda2=lambda2, lambda1=0.9, k=1, max_iteration=int(1e4), threshold=1e-6, type=\"data\")\n",
    "print(B)"
   ]
  },
  {
   "cell_type": "markdown",
   "metadata": {},
   "source": [
    "## Partial dataset"
   ]
  },
  {
   "cell_type": "code",
   "execution_count": 194,
   "metadata": {},
   "outputs": [
    {
     "data": {
      "text/plain": [
       "array([[-0.08726449,  0.1770053 , -0.42178275, ..., -0.27774177,\n",
       "        -0.88156128,  0.52880522],\n",
       "       [ 0.86507741,  0.40089409, -0.01464112, ..., -0.70611045,\n",
       "        -0.23920571, -0.38739905],\n",
       "       [ 0.49379402,  0.71338253,  0.49587136, ..., -0.5728957 ,\n",
       "        -0.3301766 , -0.48388885],\n",
       "       ...,\n",
       "       [ 0.54948653,  0.59941616,  0.55294729, ..., -0.4979624 ,\n",
       "        -0.37566205, -0.43227803],\n",
       "       [ 1.29205331, -0.17629046, -0.39831821, ..., -0.58122162,\n",
       "        -0.19372027, -0.40310669],\n",
       "       [ 0.64230738,  0.3383964 ,  0.29927649, ..., -0.33560693,\n",
       "        -0.41103962, -0.44349777]])"
      ]
     },
     "execution_count": 194,
     "metadata": {},
     "output_type": "execute_result"
    }
   ],
   "source": [
    "partial_data = genedata.iloc[:50, ]\n",
    "\n",
    "# standardization of dependent variables\n",
    "standard = preprocessing.scale(partial_data.T)\n",
    "standard"
   ]
  },
  {
   "cell_type": "code",
   "execution_count": 210,
   "metadata": {},
   "outputs": [],
   "source": [
    "lambda2 = np.absolute(np.random.normal(0, 1, 50))"
   ]
  },
  {
   "cell_type": "code",
   "execution_count": 211,
   "metadata": {},
   "outputs": [
    {
     "name": "stdout",
     "output_type": "stream",
     "text": [
      "Pre-estimation terminated succesfully\n"
     ]
    }
   ],
   "source": [
    "A, B, D, vh = spca.sparcepca(X=standard, lambda2=lambda2, lambda1=.9, k=3, max_iteration=int(1e4), threshold=1e-6, type=\"data\")\n",
    "# print(B)"
   ]
  },
  {
   "cell_type": "code",
   "execution_count": 212,
   "metadata": {},
   "outputs": [
    {
     "name": "stdout",
     "output_type": "stream",
     "text": [
      "[ 3 13 33]\n"
     ]
    }
   ],
   "source": [
    "print(utils.nonzeroloadings(B))"
   ]
  },
  {
   "cell_type": "code",
   "execution_count": 213,
   "metadata": {},
   "outputs": [
    {
     "data": {
      "text/plain": [
       "0.21379776433083914"
      ]
     },
     "execution_count": 213,
     "metadata": {},
     "output_type": "execute_result"
    }
   ],
   "source": [
    "covMat = B.T @ B \n",
    "covMat[0,0] / np.trace(covMat)"
   ]
  },
  {
   "cell_type": "code",
   "execution_count": 80,
   "metadata": {},
   "outputs": [
    {
     "data": {
      "text/plain": [
       "0.9999999999999999"
      ]
     },
     "execution_count": 80,
     "metadata": {},
     "output_type": "execute_result"
    }
   ],
   "source": []
  },
  {
   "cell_type": "code",
   "execution_count": 74,
   "metadata": {},
   "outputs": [
    {
     "data": {
      "text/plain": [
       "74809529.0961"
      ]
     },
     "execution_count": 74,
     "metadata": {},
     "output_type": "execute_result"
    }
   ],
   "source": [
    "np.var(partial_data).sum()"
   ]
  },
  {
   "cell_type": "code",
   "execution_count": 75,
   "metadata": {},
   "outputs": [
    {
     "name": "stdout",
     "output_type": "stream",
     "text": [
      "(3, 3)\n"
     ]
    }
   ],
   "source": [
    "variance, diagonal = utils.variance(pd.DataFrame(standard).T, vh)"
   ]
  },
  {
   "cell_type": "code",
   "execution_count": 78,
   "metadata": {},
   "outputs": [
    {
     "data": {
      "text/plain": [
       "0.9621990836493071"
      ]
     },
     "execution_count": 78,
     "metadata": {},
     "output_type": "execute_result"
    }
   ],
   "source": [
    "np.array([diagonal[i]**2 / sum(diagonal**2) for i in range(1)]).sum()"
   ]
  },
  {
   "cell_type": "code",
   "execution_count": 77,
   "metadata": {},
   "outputs": [
    {
     "data": {
      "text/plain": [
       "13143.538766652104"
      ]
     },
     "execution_count": 77,
     "metadata": {},
     "output_type": "execute_result"
    }
   ],
   "source": [
    "variance"
   ]
  },
  {
   "cell_type": "code",
   "execution_count": 79,
   "metadata": {},
   "outputs": [
    {
     "data": {
      "text/plain": [
       "array([10592.47777027,  2035.11979315,   515.94120323])"
      ]
     },
     "execution_count": 79,
     "metadata": {},
     "output_type": "execute_result"
    }
   ],
   "source": [
    "diagonal"
   ]
  },
  {
   "cell_type": "markdown",
   "metadata": {},
   "source": [
    "# Own experiment"
   ]
  },
  {
   "cell_type": "markdown",
   "metadata": {},
   "source": [
    "## Create dataset"
   ]
  },
  {
   "cell_type": "code",
   "execution_count": 19,
   "metadata": {},
   "outputs": [],
   "source": [
    "# Imports:\n",
    "import numpy as np\n",
    "import pandas as pd\n",
    "from numpy.linalg import svd\n",
    "from sklearn.decomposition import PCA\n",
    "from sklearn.decomposition import TruncatedSVD"
   ]
  },
  {
   "cell_type": "code",
   "execution_count": 20,
   "metadata": {},
   "outputs": [
    {
     "data": {
      "text/html": [
       "<div>\n",
       "<style scoped>\n",
       "    .dataframe tbody tr th:only-of-type {\n",
       "        vertical-align: middle;\n",
       "    }\n",
       "\n",
       "    .dataframe tbody tr th {\n",
       "        vertical-align: top;\n",
       "    }\n",
       "\n",
       "    .dataframe thead th {\n",
       "        text-align: right;\n",
       "    }\n",
       "</style>\n",
       "<table border=\"1\" class=\"dataframe\">\n",
       "  <thead>\n",
       "    <tr style=\"text-align: right;\">\n",
       "      <th></th>\n",
       "      <th>0</th>\n",
       "      <th>1</th>\n",
       "      <th>2</th>\n",
       "      <th>3</th>\n",
       "      <th>4</th>\n",
       "      <th>5</th>\n",
       "      <th>6</th>\n",
       "      <th>7</th>\n",
       "      <th>8</th>\n",
       "      <th>9</th>\n",
       "      <th>...</th>\n",
       "      <th>190</th>\n",
       "      <th>191</th>\n",
       "      <th>192</th>\n",
       "      <th>193</th>\n",
       "      <th>194</th>\n",
       "      <th>195</th>\n",
       "      <th>196</th>\n",
       "      <th>197</th>\n",
       "      <th>198</th>\n",
       "      <th>199</th>\n",
       "    </tr>\n",
       "  </thead>\n",
       "  <tbody>\n",
       "    <tr>\n",
       "      <th>0</th>\n",
       "      <td>-0.13</td>\n",
       "      <td>-0.15</td>\n",
       "      <td>0.31</td>\n",
       "      <td>0.58</td>\n",
       "      <td>-0.06</td>\n",
       "      <td>-0.34</td>\n",
       "      <td>0.20</td>\n",
       "      <td>0.33</td>\n",
       "      <td>0.02</td>\n",
       "      <td>-0.00</td>\n",
       "      <td>...</td>\n",
       "      <td>-0.48</td>\n",
       "      <td>-0.22</td>\n",
       "      <td>0.06</td>\n",
       "      <td>0.50</td>\n",
       "      <td>0.51</td>\n",
       "      <td>0.35</td>\n",
       "      <td>0.01</td>\n",
       "      <td>-0.21</td>\n",
       "      <td>-0.28</td>\n",
       "      <td>0.36</td>\n",
       "    </tr>\n",
       "    <tr>\n",
       "      <th>1</th>\n",
       "      <td>-0.25</td>\n",
       "      <td>0.46</td>\n",
       "      <td>0.41</td>\n",
       "      <td>-0.05</td>\n",
       "      <td>0.05</td>\n",
       "      <td>0.46</td>\n",
       "      <td>0.08</td>\n",
       "      <td>0.29</td>\n",
       "      <td>-0.38</td>\n",
       "      <td>-0.47</td>\n",
       "      <td>...</td>\n",
       "      <td>-0.18</td>\n",
       "      <td>0.37</td>\n",
       "      <td>0.18</td>\n",
       "      <td>0.20</td>\n",
       "      <td>0.15</td>\n",
       "      <td>-0.34</td>\n",
       "      <td>-0.32</td>\n",
       "      <td>-0.12</td>\n",
       "      <td>0.15</td>\n",
       "      <td>-0.13</td>\n",
       "    </tr>\n",
       "    <tr>\n",
       "      <th>2</th>\n",
       "      <td>-0.01</td>\n",
       "      <td>0.02</td>\n",
       "      <td>-0.03</td>\n",
       "      <td>-0.34</td>\n",
       "      <td>-0.02</td>\n",
       "      <td>-0.41</td>\n",
       "      <td>-0.45</td>\n",
       "      <td>-0.36</td>\n",
       "      <td>0.55</td>\n",
       "      <td>-0.20</td>\n",
       "      <td>...</td>\n",
       "      <td>-0.38</td>\n",
       "      <td>0.10</td>\n",
       "      <td>-0.00</td>\n",
       "      <td>0.25</td>\n",
       "      <td>0.22</td>\n",
       "      <td>0.33</td>\n",
       "      <td>0.18</td>\n",
       "      <td>0.02</td>\n",
       "      <td>0.40</td>\n",
       "      <td>-0.45</td>\n",
       "    </tr>\n",
       "    <tr>\n",
       "      <th>3</th>\n",
       "      <td>0.38</td>\n",
       "      <td>-0.46</td>\n",
       "      <td>0.33</td>\n",
       "      <td>-0.15</td>\n",
       "      <td>0.45</td>\n",
       "      <td>-0.30</td>\n",
       "      <td>0.28</td>\n",
       "      <td>0.46</td>\n",
       "      <td>-0.16</td>\n",
       "      <td>-0.53</td>\n",
       "      <td>...</td>\n",
       "      <td>0.26</td>\n",
       "      <td>0.09</td>\n",
       "      <td>-0.44</td>\n",
       "      <td>-0.12</td>\n",
       "      <td>0.06</td>\n",
       "      <td>0.22</td>\n",
       "      <td>-0.01</td>\n",
       "      <td>0.22</td>\n",
       "      <td>-0.51</td>\n",
       "      <td>0.28</td>\n",
       "    </tr>\n",
       "    <tr>\n",
       "      <th>4</th>\n",
       "      <td>0.48</td>\n",
       "      <td>-0.40</td>\n",
       "      <td>-0.06</td>\n",
       "      <td>0.35</td>\n",
       "      <td>0.43</td>\n",
       "      <td>-0.24</td>\n",
       "      <td>0.13</td>\n",
       "      <td>-0.13</td>\n",
       "      <td>0.29</td>\n",
       "      <td>0.08</td>\n",
       "      <td>...</td>\n",
       "      <td>0.42</td>\n",
       "      <td>0.13</td>\n",
       "      <td>-0.11</td>\n",
       "      <td>-0.34</td>\n",
       "      <td>-0.48</td>\n",
       "      <td>0.05</td>\n",
       "      <td>-0.10</td>\n",
       "      <td>-0.13</td>\n",
       "      <td>-0.35</td>\n",
       "      <td>-0.04</td>\n",
       "    </tr>\n",
       "    <tr>\n",
       "      <th>5</th>\n",
       "      <td>-0.23</td>\n",
       "      <td>0.11</td>\n",
       "      <td>-0.30</td>\n",
       "      <td>-0.31</td>\n",
       "      <td>0.32</td>\n",
       "      <td>0.45</td>\n",
       "      <td>-0.23</td>\n",
       "      <td>0.15</td>\n",
       "      <td>0.12</td>\n",
       "      <td>-0.04</td>\n",
       "      <td>...</td>\n",
       "      <td>-0.17</td>\n",
       "      <td>-0.16</td>\n",
       "      <td>0.06</td>\n",
       "      <td>-0.33</td>\n",
       "      <td>-0.34</td>\n",
       "      <td>0.40</td>\n",
       "      <td>0.02</td>\n",
       "      <td>0.03</td>\n",
       "      <td>-0.01</td>\n",
       "      <td>0.06</td>\n",
       "    </tr>\n",
       "    <tr>\n",
       "      <th>6</th>\n",
       "      <td>-0.05</td>\n",
       "      <td>0.40</td>\n",
       "      <td>0.12</td>\n",
       "      <td>-0.10</td>\n",
       "      <td>0.09</td>\n",
       "      <td>0.42</td>\n",
       "      <td>-0.23</td>\n",
       "      <td>-0.00</td>\n",
       "      <td>0.03</td>\n",
       "      <td>-0.53</td>\n",
       "      <td>...</td>\n",
       "      <td>-0.18</td>\n",
       "      <td>-0.10</td>\n",
       "      <td>0.22</td>\n",
       "      <td>-0.02</td>\n",
       "      <td>0.41</td>\n",
       "      <td>-0.40</td>\n",
       "      <td>-0.05</td>\n",
       "      <td>0.06</td>\n",
       "      <td>0.03</td>\n",
       "      <td>0.11</td>\n",
       "    </tr>\n",
       "    <tr>\n",
       "      <th>7</th>\n",
       "      <td>-0.11</td>\n",
       "      <td>0.13</td>\n",
       "      <td>0.33</td>\n",
       "      <td>-0.38</td>\n",
       "      <td>-0.41</td>\n",
       "      <td>0.00</td>\n",
       "      <td>0.21</td>\n",
       "      <td>-0.35</td>\n",
       "      <td>0.24</td>\n",
       "      <td>0.45</td>\n",
       "      <td>...</td>\n",
       "      <td>0.07</td>\n",
       "      <td>-0.27</td>\n",
       "      <td>0.22</td>\n",
       "      <td>-0.30</td>\n",
       "      <td>0.44</td>\n",
       "      <td>0.03</td>\n",
       "      <td>-0.47</td>\n",
       "      <td>-0.20</td>\n",
       "      <td>-0.09</td>\n",
       "      <td>-0.12</td>\n",
       "    </tr>\n",
       "    <tr>\n",
       "      <th>8</th>\n",
       "      <td>-0.42</td>\n",
       "      <td>0.40</td>\n",
       "      <td>0.35</td>\n",
       "      <td>-0.27</td>\n",
       "      <td>-0.37</td>\n",
       "      <td>0.11</td>\n",
       "      <td>0.14</td>\n",
       "      <td>0.07</td>\n",
       "      <td>-0.36</td>\n",
       "      <td>0.25</td>\n",
       "      <td>...</td>\n",
       "      <td>-0.25</td>\n",
       "      <td>-0.12</td>\n",
       "      <td>-0.13</td>\n",
       "      <td>-0.30</td>\n",
       "      <td>0.24</td>\n",
       "      <td>0.09</td>\n",
       "      <td>-0.10</td>\n",
       "      <td>0.05</td>\n",
       "      <td>0.35</td>\n",
       "      <td>-0.23</td>\n",
       "    </tr>\n",
       "    <tr>\n",
       "      <th>9</th>\n",
       "      <td>0.32</td>\n",
       "      <td>0.03</td>\n",
       "      <td>-0.03</td>\n",
       "      <td>0.12</td>\n",
       "      <td>-0.20</td>\n",
       "      <td>0.25</td>\n",
       "      <td>-0.20</td>\n",
       "      <td>0.06</td>\n",
       "      <td>0.19</td>\n",
       "      <td>0.08</td>\n",
       "      <td>...</td>\n",
       "      <td>-0.36</td>\n",
       "      <td>-0.34</td>\n",
       "      <td>-0.49</td>\n",
       "      <td>0.32</td>\n",
       "      <td>0.40</td>\n",
       "      <td>0.08</td>\n",
       "      <td>0.39</td>\n",
       "      <td>-0.44</td>\n",
       "      <td>-0.01</td>\n",
       "      <td>-0.01</td>\n",
       "    </tr>\n",
       "    <tr>\n",
       "      <th>10</th>\n",
       "      <td>-0.24</td>\n",
       "      <td>0.20</td>\n",
       "      <td>-0.26</td>\n",
       "      <td>0.40</td>\n",
       "      <td>0.45</td>\n",
       "      <td>-0.32</td>\n",
       "      <td>0.19</td>\n",
       "      <td>0.27</td>\n",
       "      <td>-0.02</td>\n",
       "      <td>0.35</td>\n",
       "      <td>...</td>\n",
       "      <td>0.20</td>\n",
       "      <td>-0.25</td>\n",
       "      <td>-0.22</td>\n",
       "      <td>0.40</td>\n",
       "      <td>-0.33</td>\n",
       "      <td>0.00</td>\n",
       "      <td>-0.04</td>\n",
       "      <td>0.23</td>\n",
       "      <td>0.12</td>\n",
       "      <td>-0.09</td>\n",
       "    </tr>\n",
       "    <tr>\n",
       "      <th>11</th>\n",
       "      <td>-0.13</td>\n",
       "      <td>-0.02</td>\n",
       "      <td>-0.34</td>\n",
       "      <td>0.20</td>\n",
       "      <td>-0.16</td>\n",
       "      <td>0.07</td>\n",
       "      <td>-0.16</td>\n",
       "      <td>-0.10</td>\n",
       "      <td>-0.29</td>\n",
       "      <td>-0.12</td>\n",
       "      <td>...</td>\n",
       "      <td>0.38</td>\n",
       "      <td>-0.02</td>\n",
       "      <td>0.31</td>\n",
       "      <td>-0.25</td>\n",
       "      <td>-0.28</td>\n",
       "      <td>-0.14</td>\n",
       "      <td>0.03</td>\n",
       "      <td>-0.22</td>\n",
       "      <td>-0.45</td>\n",
       "      <td>0.06</td>\n",
       "    </tr>\n",
       "    <tr>\n",
       "      <th>12</th>\n",
       "      <td>0.01</td>\n",
       "      <td>0.08</td>\n",
       "      <td>0.24</td>\n",
       "      <td>0.46</td>\n",
       "      <td>0.48</td>\n",
       "      <td>-0.27</td>\n",
       "      <td>0.06</td>\n",
       "      <td>0.35</td>\n",
       "      <td>-0.37</td>\n",
       "      <td>0.30</td>\n",
       "      <td>...</td>\n",
       "      <td>0.33</td>\n",
       "      <td>-0.14</td>\n",
       "      <td>-0.35</td>\n",
       "      <td>-0.23</td>\n",
       "      <td>0.47</td>\n",
       "      <td>-0.39</td>\n",
       "      <td>-0.30</td>\n",
       "      <td>0.34</td>\n",
       "      <td>-0.03</td>\n",
       "      <td>-0.22</td>\n",
       "    </tr>\n",
       "    <tr>\n",
       "      <th>13</th>\n",
       "      <td>-0.15</td>\n",
       "      <td>-0.26</td>\n",
       "      <td>-0.25</td>\n",
       "      <td>-0.25</td>\n",
       "      <td>0.01</td>\n",
       "      <td>-0.02</td>\n",
       "      <td>-0.08</td>\n",
       "      <td>0.10</td>\n",
       "      <td>0.38</td>\n",
       "      <td>0.13</td>\n",
       "      <td>...</td>\n",
       "      <td>0.42</td>\n",
       "      <td>-0.38</td>\n",
       "      <td>-0.08</td>\n",
       "      <td>0.46</td>\n",
       "      <td>-0.37</td>\n",
       "      <td>-0.08</td>\n",
       "      <td>-0.19</td>\n",
       "      <td>0.34</td>\n",
       "      <td>0.16</td>\n",
       "      <td>0.30</td>\n",
       "    </tr>\n",
       "    <tr>\n",
       "      <th>14</th>\n",
       "      <td>0.52</td>\n",
       "      <td>-0.26</td>\n",
       "      <td>0.20</td>\n",
       "      <td>-0.12</td>\n",
       "      <td>-0.15</td>\n",
       "      <td>0.31</td>\n",
       "      <td>-0.23</td>\n",
       "      <td>-0.34</td>\n",
       "      <td>-0.30</td>\n",
       "      <td>-0.31</td>\n",
       "      <td>...</td>\n",
       "      <td>-0.44</td>\n",
       "      <td>0.13</td>\n",
       "      <td>0.20</td>\n",
       "      <td>0.04</td>\n",
       "      <td>-0.03</td>\n",
       "      <td>0.43</td>\n",
       "      <td>0.05</td>\n",
       "      <td>-0.36</td>\n",
       "      <td>0.15</td>\n",
       "      <td>0.36</td>\n",
       "    </tr>\n",
       "    <tr>\n",
       "      <th>15</th>\n",
       "      <td>-0.23</td>\n",
       "      <td>-0.26</td>\n",
       "      <td>-0.05</td>\n",
       "      <td>0.11</td>\n",
       "      <td>0.35</td>\n",
       "      <td>-0.06</td>\n",
       "      <td>0.21</td>\n",
       "      <td>-0.38</td>\n",
       "      <td>-0.22</td>\n",
       "      <td>-0.16</td>\n",
       "      <td>...</td>\n",
       "      <td>-0.27</td>\n",
       "      <td>0.33</td>\n",
       "      <td>0.32</td>\n",
       "      <td>-0.22</td>\n",
       "      <td>-0.41</td>\n",
       "      <td>-0.21</td>\n",
       "      <td>0.27</td>\n",
       "      <td>0.17</td>\n",
       "      <td>-0.06</td>\n",
       "      <td>-0.05</td>\n",
       "    </tr>\n",
       "    <tr>\n",
       "      <th>16</th>\n",
       "      <td>0.13</td>\n",
       "      <td>0.10</td>\n",
       "      <td>-0.09</td>\n",
       "      <td>-0.27</td>\n",
       "      <td>-0.39</td>\n",
       "      <td>-0.25</td>\n",
       "      <td>-0.09</td>\n",
       "      <td>-0.07</td>\n",
       "      <td>0.07</td>\n",
       "      <td>0.32</td>\n",
       "      <td>...</td>\n",
       "      <td>0.15</td>\n",
       "      <td>0.13</td>\n",
       "      <td>0.27</td>\n",
       "      <td>-0.28</td>\n",
       "      <td>-0.48</td>\n",
       "      <td>0.24</td>\n",
       "      <td>0.28</td>\n",
       "      <td>0.17</td>\n",
       "      <td>0.24</td>\n",
       "      <td>0.15</td>\n",
       "    </tr>\n",
       "    <tr>\n",
       "      <th>17</th>\n",
       "      <td>0.20</td>\n",
       "      <td>-0.24</td>\n",
       "      <td>-0.34</td>\n",
       "      <td>0.43</td>\n",
       "      <td>-0.44</td>\n",
       "      <td>0.10</td>\n",
       "      <td>0.10</td>\n",
       "      <td>-0.40</td>\n",
       "      <td>-0.37</td>\n",
       "      <td>0.38</td>\n",
       "      <td>...</td>\n",
       "      <td>0.22</td>\n",
       "      <td>0.20</td>\n",
       "      <td>0.35</td>\n",
       "      <td>-0.30</td>\n",
       "      <td>-0.07</td>\n",
       "      <td>-0.04</td>\n",
       "      <td>0.28</td>\n",
       "      <td>-0.37</td>\n",
       "      <td>-0.12</td>\n",
       "      <td>-0.42</td>\n",
       "    </tr>\n",
       "    <tr>\n",
       "      <th>18</th>\n",
       "      <td>-0.30</td>\n",
       "      <td>0.29</td>\n",
       "      <td>-0.34</td>\n",
       "      <td>-0.20</td>\n",
       "      <td>-0.29</td>\n",
       "      <td>0.34</td>\n",
       "      <td>-0.33</td>\n",
       "      <td>0.22</td>\n",
       "      <td>0.07</td>\n",
       "      <td>0.08</td>\n",
       "      <td>...</td>\n",
       "      <td>-0.24</td>\n",
       "      <td>0.13</td>\n",
       "      <td>-0.11</td>\n",
       "      <td>0.48</td>\n",
       "      <td>0.13</td>\n",
       "      <td>-0.21</td>\n",
       "      <td>-0.35</td>\n",
       "      <td>0.36</td>\n",
       "      <td>0.22</td>\n",
       "      <td>-0.13</td>\n",
       "    </tr>\n",
       "    <tr>\n",
       "      <th>19</th>\n",
       "      <td>0.21</td>\n",
       "      <td>-0.18</td>\n",
       "      <td>-0.21</td>\n",
       "      <td>-0.21</td>\n",
       "      <td>-0.14</td>\n",
       "      <td>-0.29</td>\n",
       "      <td>0.39</td>\n",
       "      <td>-0.17</td>\n",
       "      <td>0.52</td>\n",
       "      <td>-0.06</td>\n",
       "      <td>...</td>\n",
       "      <td>0.51</td>\n",
       "      <td>0.38</td>\n",
       "      <td>-0.24</td>\n",
       "      <td>0.05</td>\n",
       "      <td>-0.24</td>\n",
       "      <td>-0.42</td>\n",
       "      <td>0.43</td>\n",
       "      <td>0.07</td>\n",
       "      <td>0.10</td>\n",
       "      <td>0.21</td>\n",
       "    </tr>\n",
       "  </tbody>\n",
       "</table>\n",
       "<p>20 rows × 200 columns</p>\n",
       "</div>"
      ],
      "text/plain": [
       "     0     1     2     3     4     5     6     7     8     9    ...   190  \\\n",
       "0  -0.13 -0.15  0.31  0.58 -0.06 -0.34  0.20  0.33  0.02 -0.00  ... -0.48   \n",
       "1  -0.25  0.46  0.41 -0.05  0.05  0.46  0.08  0.29 -0.38 -0.47  ... -0.18   \n",
       "2  -0.01  0.02 -0.03 -0.34 -0.02 -0.41 -0.45 -0.36  0.55 -0.20  ... -0.38   \n",
       "3   0.38 -0.46  0.33 -0.15  0.45 -0.30  0.28  0.46 -0.16 -0.53  ...  0.26   \n",
       "4   0.48 -0.40 -0.06  0.35  0.43 -0.24  0.13 -0.13  0.29  0.08  ...  0.42   \n",
       "5  -0.23  0.11 -0.30 -0.31  0.32  0.45 -0.23  0.15  0.12 -0.04  ... -0.17   \n",
       "6  -0.05  0.40  0.12 -0.10  0.09  0.42 -0.23 -0.00  0.03 -0.53  ... -0.18   \n",
       "7  -0.11  0.13  0.33 -0.38 -0.41  0.00  0.21 -0.35  0.24  0.45  ...  0.07   \n",
       "8  -0.42  0.40  0.35 -0.27 -0.37  0.11  0.14  0.07 -0.36  0.25  ... -0.25   \n",
       "9   0.32  0.03 -0.03  0.12 -0.20  0.25 -0.20  0.06  0.19  0.08  ... -0.36   \n",
       "10 -0.24  0.20 -0.26  0.40  0.45 -0.32  0.19  0.27 -0.02  0.35  ...  0.20   \n",
       "11 -0.13 -0.02 -0.34  0.20 -0.16  0.07 -0.16 -0.10 -0.29 -0.12  ...  0.38   \n",
       "12  0.01  0.08  0.24  0.46  0.48 -0.27  0.06  0.35 -0.37  0.30  ...  0.33   \n",
       "13 -0.15 -0.26 -0.25 -0.25  0.01 -0.02 -0.08  0.10  0.38  0.13  ...  0.42   \n",
       "14  0.52 -0.26  0.20 -0.12 -0.15  0.31 -0.23 -0.34 -0.30 -0.31  ... -0.44   \n",
       "15 -0.23 -0.26 -0.05  0.11  0.35 -0.06  0.21 -0.38 -0.22 -0.16  ... -0.27   \n",
       "16  0.13  0.10 -0.09 -0.27 -0.39 -0.25 -0.09 -0.07  0.07  0.32  ...  0.15   \n",
       "17  0.20 -0.24 -0.34  0.43 -0.44  0.10  0.10 -0.40 -0.37  0.38  ...  0.22   \n",
       "18 -0.30  0.29 -0.34 -0.20 -0.29  0.34 -0.33  0.22  0.07  0.08  ... -0.24   \n",
       "19  0.21 -0.18 -0.21 -0.21 -0.14 -0.29  0.39 -0.17  0.52 -0.06  ...  0.51   \n",
       "\n",
       "     191   192   193   194   195   196   197   198   199  \n",
       "0  -0.22  0.06  0.50  0.51  0.35  0.01 -0.21 -0.28  0.36  \n",
       "1   0.37  0.18  0.20  0.15 -0.34 -0.32 -0.12  0.15 -0.13  \n",
       "2   0.10 -0.00  0.25  0.22  0.33  0.18  0.02  0.40 -0.45  \n",
       "3   0.09 -0.44 -0.12  0.06  0.22 -0.01  0.22 -0.51  0.28  \n",
       "4   0.13 -0.11 -0.34 -0.48  0.05 -0.10 -0.13 -0.35 -0.04  \n",
       "5  -0.16  0.06 -0.33 -0.34  0.40  0.02  0.03 -0.01  0.06  \n",
       "6  -0.10  0.22 -0.02  0.41 -0.40 -0.05  0.06  0.03  0.11  \n",
       "7  -0.27  0.22 -0.30  0.44  0.03 -0.47 -0.20 -0.09 -0.12  \n",
       "8  -0.12 -0.13 -0.30  0.24  0.09 -0.10  0.05  0.35 -0.23  \n",
       "9  -0.34 -0.49  0.32  0.40  0.08  0.39 -0.44 -0.01 -0.01  \n",
       "10 -0.25 -0.22  0.40 -0.33  0.00 -0.04  0.23  0.12 -0.09  \n",
       "11 -0.02  0.31 -0.25 -0.28 -0.14  0.03 -0.22 -0.45  0.06  \n",
       "12 -0.14 -0.35 -0.23  0.47 -0.39 -0.30  0.34 -0.03 -0.22  \n",
       "13 -0.38 -0.08  0.46 -0.37 -0.08 -0.19  0.34  0.16  0.30  \n",
       "14  0.13  0.20  0.04 -0.03  0.43  0.05 -0.36  0.15  0.36  \n",
       "15  0.33  0.32 -0.22 -0.41 -0.21  0.27  0.17 -0.06 -0.05  \n",
       "16  0.13  0.27 -0.28 -0.48  0.24  0.28  0.17  0.24  0.15  \n",
       "17  0.20  0.35 -0.30 -0.07 -0.04  0.28 -0.37 -0.12 -0.42  \n",
       "18  0.13 -0.11  0.48  0.13 -0.21 -0.35  0.36  0.22 -0.13  \n",
       "19  0.38 -0.24  0.05 -0.24 -0.42  0.43  0.07  0.10  0.21  \n",
       "\n",
       "[20 rows x 200 columns]"
      ]
     },
     "execution_count": 20,
     "metadata": {},
     "output_type": "execute_result"
    }
   ],
   "source": [
    "# Make some fake data\n",
    "X = np.random.random((20, 200))\n",
    "# Remove column means:\n",
    "X_0mean = X - X.mean(0)\n",
    "X_df = pd.DataFrame(data=X_0mean)\n",
    "X_df.round(2)"
   ]
  },
  {
   "cell_type": "code",
   "execution_count": 21,
   "metadata": {},
   "outputs": [],
   "source": [
    "lambda2 = np.absolute(np.random.normal(0, 0.1, 20))"
   ]
  },
  {
   "cell_type": "code",
   "execution_count": 29,
   "metadata": {},
   "outputs": [
    {
     "name": "stdout",
     "output_type": "stream",
     "text": [
      "Pre-estimation terminated succesfully\n",
      "[[ 0.         -0.01915369 -0.02359065]\n",
      " [-0.          0.         -0.15659137]\n",
      " [ 0.          0.06130554 -0.        ]\n",
      " [ 0.         -0.27339056 -0.        ]\n",
      " [ 0.         -0.20821127  0.28324396]\n",
      " [ 0.          0.02522779 -0.17692703]\n",
      " [ 0.          0.03133776 -0.1062704 ]\n",
      " [-0.         -0.07354882 -0.14133605]\n",
      " [ 0.         -0.00765955 -0.08708373]\n",
      " [ 0.          0.07129693 -0.13647865]\n",
      " [-0.         -0.19949191  0.07967554]\n",
      " [ 0.17622962  0.03015984  0.18699049]\n",
      " [-0.         -0.26749231  0.04371845]\n",
      " [-0.42442989  0.00144646  0.04122428]\n",
      " [ 0.         -0.         -0.        ]\n",
      " [-0.25914301 -0.05058759  0.11223527]\n",
      " [-0.          0.19263785  0.21852299]\n",
      " [-0.          0.26988534  0.17924461]\n",
      " [-0.11625597  0.01008179 -0.0878615 ]\n",
      " [ 0.04004219 -0.08694782  0.02239189]]\n"
     ]
    }
   ],
   "source": [
    "A, B, D, vh = spca.sparcepca(X=X_df.T, lambda2=lambda2, lambda1=0.9, k=3, max_iteration=int(1e4), threshold=1e-6, type=\"data\")\n",
    "print(B)"
   ]
  },
  {
   "cell_type": "code",
   "execution_count": 30,
   "metadata": {},
   "outputs": [
    {
     "name": "stdout",
     "output_type": "stream",
     "text": [
      "(3, 3)\n"
     ]
    }
   ],
   "source": [
    "variance, diagonal = utils.variance(X_df.T, vh)"
   ]
  },
  {
   "cell_type": "code",
   "execution_count": 40,
   "metadata": {},
   "outputs": [
    {
     "data": {
      "text/plain": [
       "array([290.38913047, 246.4719818 , 192.99770231])"
      ]
     },
     "execution_count": 40,
     "metadata": {},
     "output_type": "execute_result"
    }
   ],
   "source": [
    "diagonal"
   ]
  },
  {
   "cell_type": "code",
   "execution_count": 43,
   "metadata": {},
   "outputs": [
    {
     "data": {
      "text/plain": [
       "0.7957019351156518"
      ]
     },
     "execution_count": 43,
     "metadata": {},
     "output_type": "execute_result"
    }
   ],
   "source": [
    "np.array([diagonal[i]**2 / sum(diagonal**2) for i in range(2)]).sum()"
   ]
  },
  {
   "cell_type": "markdown",
   "metadata": {},
   "source": [
    "## PCA"
   ]
  },
  {
   "cell_type": "code",
   "execution_count": 16,
   "metadata": {},
   "outputs": [],
   "source": [
    "X = np.random.random((5, 80))\n",
    "X_0mean = X - X.mean(0)"
   ]
  },
  {
   "cell_type": "code",
   "execution_count": 17,
   "metadata": {},
   "outputs": [],
   "source": [
    "k = 3"
   ]
  },
  {
   "cell_type": "code",
   "execution_count": 18,
   "metadata": {},
   "outputs": [
    {
     "ename": "NameError",
     "evalue": "name 'svd' is not defined",
     "output_type": "error",
     "traceback": [
      "\u001b[1;31m---------------------------------------------------------------------------\u001b[0m",
      "\u001b[1;31mNameError\u001b[0m                                 Traceback (most recent call last)",
      "\u001b[1;32mC:\\Users\\Public\\Documents\\Wondershare\\CreatorTemp/ipykernel_3804/2666012346.py\u001b[0m in \u001b[0;36m<module>\u001b[1;34m\u001b[0m\n\u001b[1;32m----> 1\u001b[1;33m \u001b[0mU\u001b[0m\u001b[1;33m,\u001b[0m \u001b[0ms\u001b[0m\u001b[1;33m,\u001b[0m \u001b[0mVh\u001b[0m \u001b[1;33m=\u001b[0m \u001b[0msvd\u001b[0m\u001b[1;33m(\u001b[0m\u001b[0mX_0mean\u001b[0m\u001b[1;33m,\u001b[0m \u001b[0mfull_matrices\u001b[0m\u001b[1;33m=\u001b[0m\u001b[1;32mFalse\u001b[0m\u001b[1;33m)\u001b[0m\u001b[1;33m\u001b[0m\u001b[1;33m\u001b[0m\u001b[0m\n\u001b[0m",
      "\u001b[1;31mNameError\u001b[0m: name 'svd' is not defined"
     ]
    }
   ],
   "source": [
    "U, s, Vh = svd(X_0mean, full_matrices=False)"
   ]
  },
  {
   "cell_type": "code",
   "execution_count": null,
   "metadata": {},
   "outputs": [],
   "source": [
    "n_sample = X.shape[0]"
   ]
  },
  {
   "cell_type": "code",
   "execution_count": null,
   "metadata": {},
   "outputs": [],
   "source": [
    "(s**2/(n_sample-1)).round(2)"
   ]
  },
  {
   "cell_type": "code",
   "execution_count": null,
   "metadata": {},
   "outputs": [],
   "source": [
    "np.array([s[i]**2 / sum(s**2) for i in range(k)]).round(2)"
   ]
  },
  {
   "cell_type": "code",
   "execution_count": null,
   "metadata": {},
   "outputs": [],
   "source": [
    "np.array([s[i]**2 / sum(s**2) for i in range(k)]).round(2).sum()"
   ]
  },
  {
   "cell_type": "code",
   "execution_count": null,
   "metadata": {},
   "outputs": [],
   "source": []
  }
 ],
 "metadata": {
  "interpreter": {
   "hash": "767d51c1340bd893661ea55ea3124f6de3c7a262a8b4abca0554b478b1e2ff90"
  },
  "kernelspec": {
   "display_name": "Python 3 (ipykernel)",
   "language": "python",
   "name": "python3"
  },
  "language_info": {
   "codemirror_mode": {
    "name": "ipython",
    "version": 3
   },
   "file_extension": ".py",
   "mimetype": "text/x-python",
   "name": "python",
   "nbconvert_exporter": "python",
   "pygments_lexer": "ipython3",
   "version": "3.7.11"
  },
  "toc": {
   "base_numbering": 1,
   "nav_menu": {},
   "number_sections": true,
   "sideBar": true,
   "skip_h1_title": false,
   "title_cell": "Table of Contents",
   "title_sidebar": "Contents",
   "toc_cell": false,
   "toc_position": {},
   "toc_section_display": true,
   "toc_window_display": false
  },
  "varInspector": {
   "cols": {
    "lenName": 16,
    "lenType": 16,
    "lenVar": 40
   },
   "kernels_config": {
    "python": {
     "delete_cmd_postfix": "",
     "delete_cmd_prefix": "del ",
     "library": "var_list.py",
     "varRefreshCmd": "print(var_dic_list())"
    },
    "r": {
     "delete_cmd_postfix": ") ",
     "delete_cmd_prefix": "rm(",
     "library": "var_list.r",
     "varRefreshCmd": "cat(var_dic_list()) "
    }
   },
   "types_to_exclude": [
    "module",
    "function",
    "builtin_function_or_method",
    "instance",
    "_Feature"
   ],
   "window_display": false
  }
 },
 "nbformat": 4,
 "nbformat_minor": 2
}
