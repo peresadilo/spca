{
 "cells": [
  {
   "cell_type": "markdown",
   "metadata": {},
   "source": [
    "\n",
    "We start off with importing the necessary packages (Pandas and NumPy), and our self-written SPCA script which contains all the code for performing the SPCA estimation."
   ]
  },
  {
   "cell_type": "code",
   "execution_count": 1,
   "metadata": {},
   "outputs": [],
   "source": [
    "import pandas as pd\n",
    "import numpy as np\n",
    "import spca\n",
    "import utils\n",
    "import matplotlib.pyplot as plt\n",
    "from sklearn.decomposition import PCA\n",
    "from sklearn import preprocessing"
   ]
  },
  {
   "cell_type": "markdown",
   "metadata": {},
   "source": [
    "We will start by looking at the pitprops dataset, thus using pandas we import the dataset."
   ]
  },
  {
   "cell_type": "code",
   "execution_count": 2,
   "metadata": {},
   "outputs": [],
   "source": [
    "# Import both the pitprops and gene datasets; for the pitprops dataset, use the first column as the indices.\n",
    "pitprops = pd.read_csv(\"data/pitprops.csv\", index_col=0)"
   ]
  },
  {
   "cell_type": "code",
   "execution_count": 3,
   "metadata": {},
   "outputs": [
    {
     "data": {
      "image/png": "[encoded data removed]",
      "text/plain": [
       "<Figure size 432x288 with 1 Axes>"
      ]
     },
     "metadata": {
      "needs_background": "light"
     },
     "output_type": "display_data"
    }
   ],
   "source": [
    "pca = PCA(n_components=6)\n",
    "pca_fit = pca.fit(pitprops)\n",
    "PC_values = np.arange(pca.n_components_) + 1\n",
    "plt.plot(PC_values, pca.explained_variance_ratio_, 'o-', linewidth=2, color='blue')\n",
    "plt.title('Scree Plot Pitprops data')\n",
    "plt.xlabel('Principal Component')\n",
    "plt.ylabel('Variance Explained')\n",
    "plt.show()"
   ]
  },
  {
   "cell_type": "markdown",
   "metadata": {},
   "source": [
    "We set the <img style=\"transform: translateY(0.1em); background: white;\" src=\"https://render.githubusercontent.com/render/math?math=l_2\">-norm equal to the <img style=\"transform: translateY(0.1em); background: white;\" src=\"https://render.githubusercontent.com/render/math?math=%5Clambda\">'s which are provided by Zou, Hastie, and Tibshirani (2006). We then run our self-written function sparcepca() to do the actual SPCA analysis. We first look at our self-written function which uses the elasticnet function from the scikit-learn package."
   ]
  },
  {
   "cell_type": "code",
   "execution_count": 10,
   "metadata": {},
   "outputs": [
    {
     "name": "stdout",
     "output_type": "stream",
     "text": [
      "(6, 6)\n",
      "(105.57682489555997, array([32.49551746, 32.2285981 ,  6.59983271, 16.28077761, 14.7493325 ,\n",
      "        3.22276651]))\n",
      "[12  6 10  1  0  0]\n"
     ]
    }
   ],
   "source": [
    "lambda2 = np.array([0.06, 0.16, 0.1, 0.5, 0.5, 0.5])\n",
    "A, B, D, vh = spca.sparcepca(X=pitprops, lambda2=lambda2, lambda1=0.1, k=6, max_iteration=int(1e3), threshold=1e-4, type=\"cov\")\n",
    "#print(B)\n",
    "#print(B.shape)\n",
    "# print(utils.variance(pitprops, vh))\n",
    "print(utils.variance(pitprops, vh))\n",
    "print(utils.nonzeroloadings(B))\n",
    "\n",
    "# Print results"
   ]
  },
  {
   "cell_type": "code",
   "execution_count": 12,
   "metadata": {},
   "outputs": [
    {
     "name": "stdout",
     "output_type": "stream",
     "text": [
      "(6, 6)\n"
     ]
    }
   ],
   "source": [
    "variance, diagonal = utils.variance(pitprops, vh)"
   ]
  },
  {
   "cell_type": "code",
   "execution_count": null,
   "metadata": {},
   "outputs": [],
   "source": [
    "np.array([diagonal[i]**2 / sum(diagonal**2) for i in range(6)]).sum()"
   ]
  },
  {
   "cell_type": "markdown",
   "metadata": {},
   "source": [
    "## Variance calculation"
   ]
  },
  {
   "cell_type": "code",
   "execution_count": null,
   "metadata": {},
   "outputs": [],
   "source": [
    "Z = B\n",
    "\n",
    "np.diag(np.linalg.qr(Z)[1]**2).reshape(6, 1)\n",
    "\n",
    "#print(np.trace(Z.T @ Z), np.sum((np.linalg.qr(Z)[1])**2))\n"
   ]
  },
  {
   "cell_type": "code",
   "execution_count": null,
   "metadata": {},
   "outputs": [],
   "source": [
    "sum(np.cov(Z.T @ Z))"
   ]
  },
  {
   "cell_type": "markdown",
   "metadata": {},
   "source": [
    "Second, we look at our self written sparcepca() function using our self-written elasticnet minimizer.\n",
    "\n",
    "# Note: initial run suggests 0.1s for package implementation, 0.8s for our own implementation.\n",
    "The difference in computational effiency could be because of numerical optimizations, more a more efficient optimization algorithm choice, or ?"
   ]
  },
  {
   "cell_type": "code",
   "execution_count": null,
   "metadata": {},
   "outputs": [],
   "source": [
    "A, B, vh = spca.sparcepca(X=pitprops, lambda2=lambda2, lambda1=0.1, k=6, max_iteration=int(1e3), threshold=1e-4, type=\"cov\", optimizer=\"self\")\n",
    "print(B)\n"
   ]
  },
  {
   "cell_type": "code",
   "execution_count": 31,
   "metadata": {},
   "outputs": [
    {
     "name": "stdout",
     "output_type": "stream",
     "text": [
      "\\begin{tabular}{lrrrrrr}\n",
      "\\toprule\n",
      "{} &          0 &          1 &          2 &          3 &          4 &         5 \\\\\n",
      "\\midrule\n",
      "0  &   0.307047 &   0.000000 &   0.154290 &   0.000000 &   0.000000 &  0.000000 \\\\\n",
      "1  &   0.307382 &   0.000000 &   0.154330 &   0.000000 &   0.000000 &  0.000000 \\\\\n",
      "2  &   0.040612 &   0.235553 &   0.108942 &  -0.000000 &  -0.000000 & -0.000000 \\\\\n",
      "3  &   0.109526 &   0.270272 &   0.000000 &  -0.000000 &   0.000000 & -0.000000 \\\\\n",
      "4  &   0.012094 &   0.000000 &  -0.260284 &  -0.000000 &   0.000000 & -0.000000 \\\\\n",
      "5  &   0.213813 &   0.071835 &  -0.175385 &  -0.000000 &  -0.000000 &  0.000000 \\\\\n",
      "6  &   0.337136 &  -0.000000 &  -0.135450 &   0.000000 &  -0.000000 &  0.000000 \\\\\n",
      "7  &   0.225687 &  -0.086404 &   0.000000 &  -0.000000 &  -0.000000 & -0.000000 \\\\\n",
      "8  &   0.272413 &  -0.000000 &   0.057344 &  -0.000000 &   0.000000 & -0.000000 \\\\\n",
      "9  &   0.310893 &  -0.071542 &  -0.000000 &   0.000000 &  -0.000000 & -0.000000 \\\\\n",
      "10 &  -0.000000 &   0.000000 &   0.063927 &  -0.045244 &   0.000000 &  0.000000 \\\\\n",
      "11 &  -0.067524 &   0.118681 &   0.037490 &   0.000000 &   0.000000 &  0.000000 \\\\\n",
      "12 &  -0.064504 &   0.000000 &   0.244984 &   0.000000 &   0.000000 &  0.000000 \\\\\n",
      "13 &  12.000000 &   6.000000 &  10.000000 &   1.000000 &   0.000000 &  0.000000 \\\\\n",
      "14 &  32.495517 &  32.228598 &   6.599833 &  16.280778 &  14.749333 &  3.222767 \\\\\n",
      "\\bottomrule\n",
      "\\end{tabular}\n",
      "\n"
     ]
    }
   ],
   "source": [
    "# Create latex table\n",
    "\n",
    "# Components: B, Nonzeroloadings, Diagonal\n",
    "B = pd.DataFrame(B)\n",
    "NZL = pd.DataFrame(utils.nonzeroloadings(B)).T\n",
    "var = pd.DataFrame(np.transpose(diagonal)).T\n",
    "\n",
    "BNZL = B.append(NZL, ignore_index = True).append(var, ignore_index = True)\n",
    "\n",
    "latextable = pd.DataFrame.to_latex(BNZL)\n",
    "print(latextable)"
   ]
  },
  {
   "cell_type": "markdown",
   "metadata": {},
   "source": [
    "To-do w.r.t. pitprops\n",
    "- Convert sparcepca() output into an easy-to-copy table - Done\n",
    "- Compare self-built function to sota - Done\n",
    "\n",
    "Then w.r.t. the gene dataset;\n",
    "- Adapt spca and elasticnet functions to gene dataset\n",
    "- Output/plot outcomes from gene dataset like in Zou, Hastie, and Tibshirani (2006)\n",
    "- Again, compare self-built vs. sota"
   ]
  },
  {
   "cell_type": "markdown",
   "metadata": {},
   "source": [
    "Second, we will take a look at the gene dataset. We start here with some data cleanup; remove present/absent calls which are not relevant for our research, take subsample of 144 and set row names to \"Accession\" column (Note the description column is not unique, while the accession column is)."
   ]
  },
  {
   "cell_type": "code",
   "execution_count": null,
   "metadata": {},
   "outputs": [],
   "source": [
    "genedata = pd.read_csv(\"data/GCM_Total.csv\")\n",
    "genedata = genedata[genedata.columns.drop(list(genedata.filter(regex='Unnamed')))]\n",
    "genedata.index = genedata.iloc[:, 1]\n",
    "genedata = genedata.iloc[:, 2:146]"
   ]
  },
  {
   "cell_type": "markdown",
   "metadata": {},
   "source": [
    "Genedata initial visualisation"
   ]
  },
  {
   "cell_type": "markdown",
   "metadata": {},
   "source": [
    "## Complete dataset"
   ]
  },
  {
   "cell_type": "code",
   "execution_count": null,
   "metadata": {},
   "outputs": [],
   "source": [
    "print(genedata.shape)\n",
    "print(type(genedata))\n",
    "# Get principal components\n",
    "# Make scree plots"
   ]
  },
  {
   "cell_type": "code",
   "execution_count": null,
   "metadata": {},
   "outputs": [],
   "source": [
    "lambda2 = np.absolute(np.random.normal(0, 0.1, 16000))"
   ]
  },
  {
   "cell_type": "code",
   "execution_count": null,
   "metadata": {},
   "outputs": [],
   "source": [
    "np.array(genedata).shape"
   ]
  },
  {
   "cell_type": "code",
   "execution_count": null,
   "metadata": {},
   "outputs": [],
   "source": [
    "A, B, D, vh = spca.sparcepca(X=genedata.T, lambda2=lambda2, lambda1=0.9, k=1, max_iteration=int(1e4), threshold=1e-6, type=\"data\")\n",
    "print(B)"
   ]
  },
  {
   "cell_type": "markdown",
   "metadata": {},
   "source": [
    "## Partial dataset"
   ]
  },
  {
   "cell_type": "code",
   "execution_count": null,
   "metadata": {},
   "outputs": [],
   "source": [
    "partial_data = genedata.iloc[:50, ]\n",
    "\n",
    "# standardization of dependent variables\n",
    "standard = preprocessing.scale(partial_data.T)\n",
    "standard"
   ]
  },
  {
   "cell_type": "code",
   "execution_count": null,
   "metadata": {},
   "outputs": [],
   "source": [
    "lambda2 = np.absolute(np.random.normal(0, 0.1, 3))"
   ]
  },
  {
   "cell_type": "code",
   "execution_count": null,
   "metadata": {},
   "outputs": [],
   "source": [
    "A, B, D, vh = spca.sparcepca(X=standard, lambda2=lambda2, lambda1=.9, k=3, max_iteration=int(1e4), threshold=1e-6, type=\"data\")\n",
    "# print(B)\n",
    "\n",
    "print(utils.nonzeroloadings(B)[0])\n",
    "covMat = B.T @ B \n",
    "print(covMat)\n",
    "# print(max(covMat.diagonal()))\n",
    "PVE_PC1 = covMat[0,0] / np.trace(covMat)\n",
    "print(PVE_PC1.round(3))"
   ]
  },
  {
   "cell_type": "code",
   "execution_count": null,
   "metadata": {},
   "outputs": [],
   "source": [
    "# Loop over different values of lambda2\n",
    "df_ = pd.DataFrame()\n",
    "\n",
    "for stdev in np.arange(0.4, 1.01, 0.01):\n",
    "    lambda2 = np.absolute(np.random.normal(0, stdev, 50))\n",
    "    A, B, D, vh = spca.sparcepca(X=standard, lambda2=lambda2, lambda1=.9, k=3, max_iteration=int(1e4), threshold=1e-6, type=\"data\")\n",
    "    nonzeros = utils.nonzeroloadings(B)\n",
    "    covMat = B.T @ B \n",
    "    PVE = covMat[0,0] / np.trace(covMat)\n",
    "    \n",
    "    print(nonzeros)\n",
    "    print(PVE)\n",
    "    print()\n",
    "    \n",
    "    dict_ = {'lambda2' : lambda2, 'nonzeros' : nonzeros, 'PVE' : PVE}\n",
    "    \n",
    "    df_ = df_.append(dict_, ignore_index=True)\n",
    "    "
   ]
  },
  {
   "cell_type": "code",
   "execution_count": null,
   "metadata": {},
   "outputs": [],
   "source": [
    "variance, diagonal = utils.variance(pd.DataFrame(standard).T, vh)"
   ]
  },
  {
   "cell_type": "code",
   "execution_count": null,
   "metadata": {},
   "outputs": [],
   "source": [
    "standard"
   ]
  },
  {
   "cell_type": "code",
   "execution_count": null,
   "metadata": {},
   "outputs": [],
   "source": [
    "from sklearn.decomposition import SparsePCA\n",
    "transformer = SparsePCA(n_components=1, random_state=0, alpha=12.0, ridge_alpha=1)\n",
    "fit = transformer.fit(standard)"
   ]
  },
  {
   "cell_type": "code",
   "execution_count": null,
   "metadata": {},
   "outputs": [],
   "source": [
    "X_transformed = transformer.transform(standard)"
   ]
  }
 ],
 "metadata": {
  "interpreter": {
   "hash": "767d51c1340bd893661ea55ea3124f6de3c7a262a8b4abca0554b478b1e2ff90"
  },
  "kernelspec": {
   "display_name": "Python 3 (ipykernel)",
   "language": "python",
   "name": "python3"
  },
  "language_info": {
   "codemirror_mode": {
    "name": "ipython",
    "version": 3
   },
   "file_extension": ".py",
   "mimetype": "text/x-python",
   "name": "python",
   "nbconvert_exporter": "python",
   "pygments_lexer": "ipython3",
   "version": "3.7.11"
  },
  "toc": {
   "base_numbering": 1,
   "nav_menu": {},
   "number_sections": true,
   "sideBar": true,
   "skip_h1_title": false,
   "title_cell": "Table of Contents",
   "title_sidebar": "Contents",
   "toc_cell": false,
   "toc_position": {},
   "toc_section_display": true,
   "toc_window_display": false
  },
  "varInspector": {
   "cols": {
    "lenName": 16,
    "lenType": 16,
    "lenVar": 40
   },
   "kernels_config": {
    "python": {
     "delete_cmd_postfix": "",
     "delete_cmd_prefix": "del ",
     "library": "var_list.py",
     "varRefreshCmd": "print(var_dic_list())"
    },
    "r": {
     "delete_cmd_postfix": ") ",
     "delete_cmd_prefix": "rm(",
     "library": "var_list.r",
     "varRefreshCmd": "cat(var_dic_list()) "
    }
   },
   "types_to_exclude": [
    "module",
    "function",
    "builtin_function_or_method",
    "instance",
    "_Feature"
   ],
   "window_display": false
  }
 },
 "nbformat": 4,
 "nbformat_minor": 2
}
